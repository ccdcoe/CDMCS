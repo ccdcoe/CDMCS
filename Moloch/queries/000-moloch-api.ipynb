{
 "cells": [
  {
   "cell_type": "markdown",
   "metadata": {},
   "source": [
    "# Setting connection params\n",
    "\n",
    "Please adjust IP and user/pass if you are connecting to anything other than singlehost. Or if your singlehost has another IP."
   ]
  },
  {
   "cell_type": "code",
   "execution_count": 1,
   "metadata": {},
   "outputs": [],
   "source": [
    "singlehost=\"192.168.10.11\"\n",
    "buildbox=\"192.168.10.12\"\n",
    "apibox=\"192.168.10.13\"\n",
    "molo_host = apibox\n",
    "ela_host = apibox"
   ]
  },
  {
   "cell_type": "code",
   "execution_count": 2,
   "metadata": {},
   "outputs": [],
   "source": [
    "user = \"vagrant\"\n",
    "passwd = \"vagrant\""
   ]
  },
  {
   "cell_type": "code",
   "execution_count": 3,
   "metadata": {},
   "outputs": [
    {
     "data": {
      "text/plain": [
       "'http://192.168.10.13:8005'"
      ]
     },
     "execution_count": 3,
     "metadata": {},
     "output_type": "execute_result"
    }
   ],
   "source": [
    "molo_conn_string = \"http://{}:8005\".format(molo_host)\n",
    "molo_conn_string"
   ]
  },
  {
   "cell_type": "code",
   "execution_count": 6,
   "metadata": {},
   "outputs": [
    {
     "data": {
      "text/plain": [
       "'http://192.168.10.13:9200'"
      ]
     },
     "execution_count": 6,
     "metadata": {},
     "output_type": "execute_result"
    }
   ],
   "source": [
    "ela_conn_string = \"http://{}:9200\".format(ela_host)\n",
    "ela_conn_string"
   ]
  },
  {
   "cell_type": "code",
   "execution_count": 7,
   "metadata": {},
   "outputs": [],
   "source": [
    "class Get():\n",
    "    CONN_JSON      = \"connections.json\"\n",
    "    CONN_CSV       = \"connections.csv\"\n",
    "    FILES          = \"file/list\"\n",
    "    SESS_JSON      = \"sessions.json\"\n",
    "    SESS_CSV       = \"sessions.csv\"\n",
    "    SESS_PCAP      = \"sessions.pcap\"\n",
    "    SPI_GRAPH_JSON = \"spigraph.json\"\n",
    "    SPI_VIEW_JSON  = \"spiview.json\"\n",
    "    UNIQ           = \"unique.txt\"\n",
    "    \n",
    "class Post():\n",
    "    TAGS_ADD       = \"addTags\"\n",
    "    TAGS_REM       = \"removeTags\""
   ]
  },
  {
   "cell_type": "markdown",
   "metadata": {},
   "source": [
    "# Listing available fields in moloch database"
   ]
  },
  {
   "cell_type": "code",
   "execution_count": 133,
   "metadata": {},
   "outputs": [],
   "source": [
    "from elasticsearch import Elasticsearch"
   ]
  },
  {
   "cell_type": "code",
   "execution_count": 134,
   "metadata": {},
   "outputs": [
    {
     "data": {
      "text/plain": [
       "True"
      ]
     },
     "execution_count": 134,
     "metadata": {},
     "output_type": "execute_result"
    }
   ],
   "source": [
    "es = Elasticsearch(hosts=[ela_conn_string])\n",
    "es.ping()"
   ]
  },
  {
   "cell_type": "code",
   "execution_count": 135,
   "metadata": {},
   "outputs": [
    {
     "data": {
      "text/plain": [
       "['_id',\n",
       " 'asnall',\n",
       " 'asset',\n",
       " 'assetCnt',\n",
       " 'cdmcs.name',\n",
       " 'cdmcs.nameCnt',\n",
       " 'cdmcs.type',\n",
       " 'cdmcs.typeCnt',\n",
       " 'cert.alt',\n",
       " 'cert.altCnt',\n",
       " 'cert.hash',\n",
       " 'cert.issuerCN',\n",
       " 'cert.issuerON',\n",
       " 'cert.notAfter',\n",
       " 'cert.notBefore',\n",
       " 'cert.remainingDays',\n",
       " 'cert.serial',\n",
       " 'cert.subjectCN',\n",
       " 'cert.subjectON',\n",
       " 'cert.validDays',\n",
       " 'certCnt',\n",
       " 'communityId',\n",
       " 'dhcp.host',\n",
       " 'dhcp.hostCnt',\n",
       " 'dhcp.hostTokens',\n",
       " 'dhcp.id',\n",
       " 'dhcp.idCnt',\n",
       " 'dhcp.mac',\n",
       " 'dhcp.macCnt',\n",
       " 'dhcp.oui',\n",
       " 'dhcp.ouiCnt',\n",
       " 'dhcp.type',\n",
       " 'dhcp.typeCnt',\n",
       " 'dns.ASN',\n",
       " 'dns.GEO',\n",
       " 'dns.RIR',\n",
       " 'dns.host',\n",
       " 'dns.hostCnt',\n",
       " 'dns.hostTokens',\n",
       " 'dns.ip',\n",
       " 'dns.ipCnt',\n",
       " 'dns.mailserverASN',\n",
       " 'dns.mailserverGEO',\n",
       " 'dns.mailserverHost',\n",
       " 'dns.mailserverHostCnt',\n",
       " 'dns.mailserverIp',\n",
       " 'dns.mailserverIpCnt',\n",
       " 'dns.mailserverRIR',\n",
       " 'dns.nameserverASN',\n",
       " 'dns.nameserverGEO',\n",
       " 'dns.nameserverHost',\n",
       " 'dns.nameserverHostCnt',\n",
       " 'dns.nameserverIp',\n",
       " 'dns.nameserverIpCnt',\n",
       " 'dns.nameserverRIR',\n",
       " 'dns.opcode',\n",
       " 'dns.opcodeCnt',\n",
       " 'dns.puny',\n",
       " 'dns.punyCnt',\n",
       " 'dns.qc',\n",
       " 'dns.qcCnt',\n",
       " 'dns.qt',\n",
       " 'dns.qtCnt',\n",
       " 'dns.status',\n",
       " 'dns.statusCnt',\n",
       " 'dnshostall',\n",
       " 'dnsipall',\n",
       " 'dstASN',\n",
       " 'dstBytes',\n",
       " 'dstDataBytes',\n",
       " 'dstGEO',\n",
       " 'dstIp',\n",
       " 'dstMac',\n",
       " 'dstMacCnt',\n",
       " 'dstOui',\n",
       " 'dstOuiCnt',\n",
       " 'dstPackets',\n",
       " 'dstPayload8',\n",
       " 'dstPayload8',\n",
       " 'dstPort',\n",
       " 'dstRIR',\n",
       " 'email.ASN',\n",
       " 'email.GEO',\n",
       " 'email.RIR',\n",
       " 'email.bodyMagic',\n",
       " 'email.bodyMagicCnt',\n",
       " 'email.contentType',\n",
       " 'email.contentTypeCnt',\n",
       " 'email.dst',\n",
       " 'email.dstCnt',\n",
       " 'email.fileContentType',\n",
       " 'email.fileContentTypeCnt',\n",
       " 'email.filename',\n",
       " 'email.filenameCnt',\n",
       " 'email.header',\n",
       " 'email.headerCnt',\n",
       " 'email.headerValue',\n",
       " 'email.headerValueCnt',\n",
       " 'email.host',\n",
       " 'email.hostCnt',\n",
       " 'email.hostTokens',\n",
       " 'email.id',\n",
       " 'email.idCnt',\n",
       " 'email.ip',\n",
       " 'email.ipCnt',\n",
       " 'email.md5',\n",
       " 'email.md5Cnt',\n",
       " 'email.mimeVersion',\n",
       " 'email.mimeVersionCnt',\n",
       " 'email.src',\n",
       " 'email.srcCnt',\n",
       " 'email.subject',\n",
       " 'email.subjectCnt',\n",
       " 'email.useragent',\n",
       " 'email.useragentCnt',\n",
       " 'fballhex',\n",
       " 'fballutf8',\n",
       " 'fileand',\n",
       " 'firstPacket',\n",
       " 'geoall',\n",
       " 'greASN',\n",
       " 'greGEO',\n",
       " 'greIp',\n",
       " 'greIpCnt',\n",
       " 'greRIR',\n",
       " 'hhall',\n",
       " 'hhvalueall',\n",
       " 'hostall',\n",
       " 'http.authType',\n",
       " 'http.authTypeCnt',\n",
       " 'http.bodyMagic',\n",
       " 'http.bodyMagicCnt',\n",
       " 'http.clientVersion',\n",
       " 'http.clientVersionCnt',\n",
       " 'http.cookieKey',\n",
       " 'http.cookieKeyCnt',\n",
       " 'http.cookieValue',\n",
       " 'http.cookieValueCnt',\n",
       " 'http.host',\n",
       " 'http.hostCnt',\n",
       " 'http.hostTokens',\n",
       " 'http.key',\n",
       " 'http.keyCnt',\n",
       " 'http.md5',\n",
       " 'http.md5Cnt',\n",
       " 'http.method',\n",
       " 'http.methodCnt',\n",
       " 'http.path',\n",
       " 'http.pathCnt',\n",
       " 'http.requestBody',\n",
       " 'http.requestHeader',\n",
       " 'http.requestHeaderCnt',\n",
       " 'http.requestHeaderValue',\n",
       " 'http.requestHeaderValueCnt',\n",
       " 'http.responseHeader',\n",
       " 'http.responseHeaderCnt',\n",
       " 'http.responseHeaderValue',\n",
       " 'http.responseHeaderValueCnt',\n",
       " 'http.serverVersion',\n",
       " 'http.serverVersionCnt',\n",
       " 'http.statuscode',\n",
       " 'http.statuscodeCnt',\n",
       " 'http.uri',\n",
       " 'http.uriCnt',\n",
       " 'http.uriTokens',\n",
       " 'http.user',\n",
       " 'http.userCnt',\n",
       " 'http.useragent',\n",
       " 'http.useragentCnt',\n",
       " 'http.useragentTokens',\n",
       " 'http.value',\n",
       " 'http.valueCnt',\n",
       " 'http.xffASN',\n",
       " 'http.xffGEO',\n",
       " 'http.xffIp',\n",
       " 'http.xffIpCnt',\n",
       " 'http.xffRIR',\n",
       " 'httpversion',\n",
       " 'huntId',\n",
       " 'huntName',\n",
       " 'icmp.code',\n",
       " 'icmp.type',\n",
       " 'initRTT',\n",
       " 'ipProtocol',\n",
       " 'ipall',\n",
       " 'irc.channel',\n",
       " 'irc.channelCnt',\n",
       " 'irc.nick',\n",
       " 'irc.nickCnt',\n",
       " 'krb5.cname',\n",
       " 'krb5.cnameCnt',\n",
       " 'krb5.realm',\n",
       " 'krb5.realmCnt',\n",
       " 'krb5.sname',\n",
       " 'krb5.snameCnt',\n",
       " 'lastPacket',\n",
       " 'ldap.authtype',\n",
       " 'ldap.authtypeCnt',\n",
       " 'ldap.bindname',\n",
       " 'ldap.bindnameCnt',\n",
       " 'length',\n",
       " 'macall',\n",
       " 'mysql.user',\n",
       " 'mysql.version',\n",
       " 'node',\n",
       " 'oracle.host',\n",
       " 'oracle.hostTokens',\n",
       " 'oracle.service',\n",
       " 'oracle.user',\n",
       " 'portall',\n",
       " 'postgresql.app',\n",
       " 'postgresql.db',\n",
       " 'postgresql.user',\n",
       " 'protocol',\n",
       " 'protocolCnt',\n",
       " 'quic.host',\n",
       " 'quic.hostCnt',\n",
       " 'quic.hostTokens',\n",
       " 'quic.useragent',\n",
       " 'quic.useragentCnt',\n",
       " 'quic.version',\n",
       " 'quic.versionCnt',\n",
       " 'radius.endpointASN',\n",
       " 'radius.endpointGEO',\n",
       " 'radius.endpointIp',\n",
       " 'radius.endpointIpCnt',\n",
       " 'radius.endpointRIR',\n",
       " 'radius.framedASN',\n",
       " 'radius.framedGEO',\n",
       " 'radius.framedIp',\n",
       " 'radius.framedIpCnt',\n",
       " 'radius.framedRIR',\n",
       " 'radius.mac',\n",
       " 'radius.macCnt',\n",
       " 'radius.user',\n",
       " 'rirall',\n",
       " 'rootId',\n",
       " 'scrubby',\n",
       " 'segmentCnt',\n",
       " 'smb.domain',\n",
       " 'smb.domainCnt',\n",
       " 'smb.filename',\n",
       " 'smb.filenameCnt',\n",
       " 'smb.hostCnt',\n",
       " 'smb.hostTokens',\n",
       " 'smb.os',\n",
       " 'smb.osCnt',\n",
       " 'smb.share',\n",
       " 'smb.shareCnt',\n",
       " 'smb.user',\n",
       " 'smb.userCnt',\n",
       " 'smb.version',\n",
       " 'smb.versionCnt',\n",
       " 'socks.ASN',\n",
       " 'socks.GEO',\n",
       " 'socks.RIR',\n",
       " 'socks.host',\n",
       " 'socks.hostTokens',\n",
       " 'socks.ip',\n",
       " 'socks.port',\n",
       " 'socks.user',\n",
       " 'srcASN',\n",
       " 'srcBytes',\n",
       " 'srcDataBytes',\n",
       " 'srcGEO',\n",
       " 'srcIp',\n",
       " 'srcMac',\n",
       " 'srcMacCnt',\n",
       " 'srcOui',\n",
       " 'srcOuiCnt',\n",
       " 'srcPackets',\n",
       " 'srcPayload8',\n",
       " 'srcPayload8',\n",
       " 'srcPort',\n",
       " 'srcRIR',\n",
       " 'ssh.hassh',\n",
       " 'ssh.hasshCnt',\n",
       " 'ssh.hasshServer',\n",
       " 'ssh.hasshServerCnt',\n",
       " 'ssh.key',\n",
       " 'ssh.keyCnt',\n",
       " 'ssh.version',\n",
       " 'ssh.versionCnt',\n",
       " 'suricata.action',\n",
       " 'suricata.actionCnt',\n",
       " 'suricata.category',\n",
       " 'suricata.categoryCnt',\n",
       " 'suricata.flowId',\n",
       " 'suricata.flowIdCnt',\n",
       " 'suricata.gid',\n",
       " 'suricata.gidCnt',\n",
       " 'suricata.severity',\n",
       " 'suricata.severityCnt',\n",
       " 'suricata.signature',\n",
       " 'suricata.signatureCnt',\n",
       " 'suricata.signatureId',\n",
       " 'suricata.signatureIdCnt',\n",
       " 'tags',\n",
       " 'tagsCnt',\n",
       " 'tcpflags.ack',\n",
       " 'tcpflags.fin',\n",
       " 'tcpflags.psh',\n",
       " 'tcpflags.rst',\n",
       " 'tcpflags.syn',\n",
       " 'tcpflags.syn-ack',\n",
       " 'tcpflags.urg',\n",
       " 'tls.cipher',\n",
       " 'tls.cipherCnt',\n",
       " 'tls.dstSessionId',\n",
       " 'tls.ja3',\n",
       " 'tls.ja3Cnt',\n",
       " 'tls.ja3s',\n",
       " 'tls.ja3sCnt',\n",
       " 'tls.srcSessionId',\n",
       " 'tls.version',\n",
       " 'tls.versionCnt',\n",
       " 'tlsidall',\n",
       " 'totBytes',\n",
       " 'totDataBytes',\n",
       " 'totPackets',\n",
       " 'user',\n",
       " 'userCnt',\n",
       " 'viewand',\n",
       " 'vlan',\n",
       " 'vlanCnt']"
      ]
     },
     "execution_count": 135,
     "metadata": {},
     "output_type": "execute_result"
    }
   ],
   "source": [
    "fields = es.search(\"fields\", params={\"size\":3000})\n",
    "fields = [f[\"_source\"] for f in fields[\"hits\"][\"hits\"]]\n",
    "fields = [f[\"dbField2\"] for f in fields]\n",
    "fields = sorted(fields)\n",
    "fields"
   ]
  },
  {
   "cell_type": "markdown",
   "metadata": {},
   "source": [
    "# Talking to endpoints"
   ]
  },
  {
   "cell_type": "code",
   "execution_count": 136,
   "metadata": {},
   "outputs": [],
   "source": [
    "import requests\n",
    "from requests.auth import HTTPDigestAuth"
   ]
  },
  {
   "cell_type": "markdown",
   "metadata": {},
   "source": [
    "Consider the following example:\n",
    "\n",
    "```\n",
    "curl -u vagrant:vagrant --digest \\\n",
    "    --data-urlencode \"startTime=$(date -d '04/16/2019 17:00:00' +\"%s\")\" \\\n",
    "    --data-urlencode \"stopTime=$(date -d '04/16/2019 18:00:00' +\"%s\")\" \\\n",
    "    --data-urlencode \"expression=protocols==dns\" \\\n",
    "    --data-urlencode \"exp=dns.host\" \\\n",
    "    -GET \"http://192.168.10.11:8005/unique.txt\"\n",
    "```\n",
    "\n",
    "Firstly, we can make the unix epoch parsing a bit more convenient. Following datetime lines are equal to unix *date* command output."
   ]
  },
  {
   "cell_type": "code",
   "execution_count": 137,
   "metadata": {},
   "outputs": [],
   "source": [
    "import datetime as dt\n",
    "start = int(dt.datetime.strptime('04/16/2019 17:00:00', '%m/%d/%Y %H:%M:%S').strftime(\"%s\"))\n",
    "end = int(dt.datetime.strptime('04/16/2019 18:00:00', '%m/%d/%Y %H:%M:%S').strftime(\"%s\"))"
   ]
  },
  {
   "cell_type": "markdown",
   "metadata": {},
   "source": [
    "We can wrap this in a simple function. Feel free to use any date format that is convenient to you."
   ]
  },
  {
   "cell_type": "code",
   "execution_count": 138,
   "metadata": {},
   "outputs": [],
   "source": [
    "def myDate(stringdate):\n",
    "    return int(dt.datetime.strptime(stringdate, '%m/%d/%Y %H:%M:%S').strftime(\"%s\"))"
   ]
  },
  {
   "cell_type": "markdown",
   "metadata": {},
   "source": [
    "Subtracting the end from start does indeed result in 3600 seconds, or 1 hour."
   ]
  },
  {
   "cell_type": "code",
   "execution_count": 139,
   "metadata": {},
   "outputs": [
    {
     "data": {
      "text/plain": [
       "3600"
      ]
     },
     "execution_count": 139,
     "metadata": {},
     "output_type": "execute_result"
    }
   ],
   "source": [
    "myDate('04/16/2019 18:00:00') - start"
   ]
  },
  {
   "cell_type": "markdown",
   "metadata": {},
   "source": [
    "Now, let's construct the body of the request."
   ]
  },
  {
   "cell_type": "code",
   "execution_count": 140,
   "metadata": {},
   "outputs": [],
   "source": [
    "query = {\n",
    "    \"startTime\": start,\n",
    "    \"stopTime\": end,\n",
    "    \"expression\": \"protocols == dns\",\n",
    "    \"exp\": \"dns.host\"\n",
    "}"
   ]
  },
  {
   "cell_type": "markdown",
   "metadata": {},
   "source": [
    "And send out the digest authenticated GET request. Collect results into a variable."
   ]
  },
  {
   "cell_type": "code",
   "execution_count": 141,
   "metadata": {},
   "outputs": [
    {
     "data": {
      "text/plain": [
       "'http://192.168.10.11:8005/unique.txt'"
      ]
     },
     "execution_count": 141,
     "metadata": {},
     "output_type": "execute_result"
    }
   ],
   "source": [
    "endpoint = \"{}/{}\".format(molo_conn_string, Get.UNIQ)\n",
    "endpoint"
   ]
  },
  {
   "cell_type": "code",
   "execution_count": 142,
   "metadata": {},
   "outputs": [
    {
     "data": {
      "text/plain": [
       "<Response [200]>"
      ]
     },
     "execution_count": 142,
     "metadata": {},
     "output_type": "execute_result"
    }
   ],
   "source": [
    "resp = requests.get(endpoint, params=query, auth=HTTPDigestAuth(user, passwd))\n",
    "resp"
   ]
  },
  {
   "cell_type": "code",
   "execution_count": 143,
   "metadata": {},
   "outputs": [
    {
     "data": {
      "text/plain": [
       "''"
      ]
     },
     "execution_count": 143,
     "metadata": {},
     "output_type": "execute_result"
    }
   ],
   "source": [
    "resp.text"
   ]
  },
  {
   "cell_type": "markdown",
   "metadata": {},
   "source": [
    "Note the okay response code 200 with empty string in results. If using singlehost. That's because you are unlikely to have any data from example period. As an exercise, lets override this with last hour. This is equivelant to `date=1`, but does not matter for exercise."
   ]
  },
  {
   "cell_type": "code",
   "execution_count": 144,
   "metadata": {},
   "outputs": [],
   "source": [
    "query[\"startTime\"] = int(dt.datetime.now().strftime(\"%s\"))-3600\n",
    "query[\"stopTime\"] = dt.datetime.now().strftime(\"%s\")"
   ]
  },
  {
   "cell_type": "code",
   "execution_count": 145,
   "metadata": {},
   "outputs": [
    {
     "data": {
      "text/plain": [
       "<Response [200]>"
      ]
     },
     "execution_count": 145,
     "metadata": {},
     "output_type": "execute_result"
    }
   ],
   "source": [
    "resp = requests.get(endpoint, params=query, auth=HTTPDigestAuth(user, passwd))\n",
    "resp"
   ]
  },
  {
   "cell_type": "code",
   "execution_count": 146,
   "metadata": {},
   "outputs": [
    {
     "data": {
      "text/plain": [
       "'berylia.org\\nstar-mini.c10r.facebook.com\\ngithub.map.fastly.net\\nsysadminnid.tumblr.com\\nself-signed.badssl.com\\ntestmyids.com\\nraw.githubusercontent.com\\ngrafana.com\\nwww.facebook.com\\n15.2.0.10.in-addr.arpa\\n3.2.0.10.in-addr.arpa\\ntestmyids.com.berylia.org\\n'"
      ]
     },
     "execution_count": 146,
     "metadata": {},
     "output_type": "execute_result"
    }
   ],
   "source": [
    "resp.text"
   ]
  },
  {
   "cell_type": "markdown",
   "metadata": {},
   "source": [
    "Unique api returns a newline delimited string. Let's turn it into something more structured with basic python string functions. And get rid of empty elements left over by splitting logic."
   ]
  },
  {
   "cell_type": "code",
   "execution_count": 147,
   "metadata": {},
   "outputs": [
    {
     "name": "stdout",
     "output_type": "stream",
     "text": [
      "['berylia.org', 'star-mini.c10r.facebook.com', 'github.map.fastly.net', 'sysadminnid.tumblr.com', 'self-signed.badssl.com', 'testmyids.com', 'raw.githubusercontent.com', 'grafana.com', 'www.facebook.com', '15.2.0.10.in-addr.arpa', '3.2.0.10.in-addr.arpa', 'testmyids.com.berylia.org', '']\n",
      "['berylia.org', 'star-mini.c10r.facebook.com', 'github.map.fastly.net', 'sysadminnid.tumblr.com', 'self-signed.badssl.com', 'testmyids.com', 'raw.githubusercontent.com', 'grafana.com', 'www.facebook.com', '15.2.0.10.in-addr.arpa', '3.2.0.10.in-addr.arpa', 'testmyids.com.berylia.org']\n"
     ]
    }
   ],
   "source": [
    "domains = resp.text.split(\"\\n\")\n",
    "print(domains)\n",
    "domains = [d for d in domains if d != \"\"]\n",
    "print(domains)"
   ]
  },
  {
   "cell_type": "markdown",
   "metadata": {},
   "source": [
    "Generating new queries from the result of the first is now trivial."
   ]
  },
  {
   "cell_type": "code",
   "execution_count": 197,
   "metadata": {},
   "outputs": [],
   "source": [
    "endpoint = \"{}/{}\".format(molo_conn_string, Get.SESS_CSV)\n",
    "resps = {}\n",
    "for d in domains:\n",
    "    r = requests.get(endpoint, params={\n",
    "        \"date\": 2,\n",
    "        \"expression\": \"host.dns == {}\".format(d),\n",
    "        \"fields\": \",\".join([\n",
    "            \"srcIp\",\n",
    "            \"dstIp\",\n",
    "            \"communityId\",\n",
    "            \"dns.status\"\n",
    "        ])\n",
    "    }, auth=HTTPDigestAuth(user, passwd))\n",
    "    resps[d] = r.text"
   ]
  },
  {
   "cell_type": "code",
   "execution_count": 198,
   "metadata": {},
   "outputs": [
    {
     "name": "stdout",
     "output_type": "stream",
     "text": [
      "-----berylia.org-----\n",
      "Src IP, Dst IP, Community Id, Status Code\n",
      "10.0.2.15,1.1.1.1,1:tagj3MtXCUoAV2S+4dv7wgCAdXk=,\"NOERROR\"\n",
      "10.0.2.15,1.1.1.1,1:3NWJhYyXZT2f1IORDdgDZ9crAaE=,\"NOERROR\"\n",
      "10.0.2.15,1.1.1.1,1:rGRhDccXRNL0G/Ak3CObIAucHhQ=,\"NOERROR\"\n",
      "10.0.2.15,8.8.8.8,1:WDVmkWWetGZGHLz+YMn4ljnb4yI=,\"NOERROR\"\n",
      "10.0.2.15,1.1.1.1,1:eMLUZD41lqJHeqlqxl7DYeQLX+Q=,\"NOERROR\"\n",
      "10.0.2.15,8.8.8.8,1:mxocn6g3dkmByhRhzpmUfOAAW9U=,\"NOERROR\"\n",
      "10.0.2.15,8.8.8.8,1:LlozqkA19zX9r7bFxFwtojyUnoc=,\"NOERROR\"\n",
      "10.0.2.15,1.1.1.1,1:R+iWVwLCc1MAkS1bHzRC38SCCNk=,\"NOERROR\"\n",
      "10.0.2.15,8.8.8.8,1:esp1UznZdqQjTiIbsrX3GBE/C0M=,\"NOERROR\"\n",
      "10.0.2.15,1.1.1.1,1:aNiWJmt8Lh25Z6d+qSKIZwYIMnc=,\"NOERROR\"\n",
      "10.0.2.15,8.8.8.8,1:IgHj10AtyJMVBsA3MAo3KDCdz4c=,\"NOERROR\"\n",
      "10.0.2.15,1.1.1.1,1:DtpF1/mHEs/o0TSlqGOaj43/TY4=,\"NOERROR\"\n",
      "10.0.2.15,8.8.8.8,1:z3Cn6xv3s4jlLRaGZUG8KjFjtl0=,\"NOERROR\"\n",
      "10.0.2.15,1.1.1.1,1:Kfk7dqbOCNgzuaYLKdiN1RhaHic=,\"NOERROR\"\n",
      "10.0.2.15,8.8.8.8,1:JseIiyi9s3dblq52MO4hJCEiVFA=,\"NOERROR\"\n",
      "10.0.2.15,1.1.1.1,1:QWjZtnqRS3PJgCBaBCFNMES8Vgs=,\"NOERROR\"\n",
      "10.0.2.15,1.1.1.1,1:Dlonxgaahh23Nre4cRi9sSp5Y6A=,\"NOERROR\"\n",
      "10.0.2.15,8.8.8.8,1:nKyON5AgGx75208x5CxkAJ9dflY=,\"NOERROR\"\n",
      "10.0.2.15,8.8.8.8,1:1NWAPvovZHsSk2Auwkv5Xu6pXVA=,\"NOERROR\"\n",
      "10.0.2.15,1.1.1.1,1:7e9EUYFkxaB32/A02gKSvURe05c=,\"NOERROR\"\n",
      "10.0.2.15,1.1.1.1,1:5ORIjed9wDkkGF8WtqlUpJGCnLw=,\"NOERROR\"\n",
      "10.0.2.15,1.1.1.1,1:4NR+Vn9khV4o3APYoWSf8L4zaP4=,\"NOERROR\"\n",
      "10.0.2.15,8.8.8.8,1:BIjJnVDrJ3h4fot9Frwt1Q9uPiU=,\"NOERROR\"\n",
      "10.0.2.15,8.8.8.8,1:qAHsYMU2hZWEK/dYA1Fw+BqRkTI=,\"NOERROR\"\n",
      "10.0.2.15,1.1.1.1,1:mqXhn9irTYPdbYxPD9eJ0F2w4Xc=,\"NOERROR\"\n",
      "10.0.2.15,1.1.1.1,1:jGp7+uDHezmkU42B3zk8dzisaiU=,\"NOERROR\"\n",
      "10.0.2.15,8.8.8.8,1:4/XNixThZMov35adFkpWdgsTuKI=,\"NOERROR\"\n",
      "10.0.2.15,1.1.1.1,1:p6g3MZ72Wh7D9iT9N0rCSfjO9QM=,\"NOERROR\"\n",
      "10.0.2.15,8.8.8.8,1:8NLsC+pIqlNSkbbj+XsPhsKsLkc=,\"NOERROR\"\n",
      "10.0.2.15,1.1.1.1,1:3rG/iYUMce6W0WjQjxKrbR1Y6M4=,\"NOERROR\"\n",
      "10.0.2.15,8.8.8.8,1:YmfeNJB4VuFJ+k3IrYuBB0z4quA=,\"NOERROR\"\n",
      "10.0.2.15,1.1.1.1,1:XT6oeGhyf1Yjd9E+hO2lpdheTg4=,\"NOERROR\"\n",
      "10.0.2.15,1.1.1.1,1:t4SXfwXiX2v/b3p8GeuSFB6wmlI=,\"NOERROR\"\n",
      "10.0.2.15,8.8.8.8,1:r5ywfU6Iz5gGFrRexX13nsMQkyQ=,\"NOERROR\"\n",
      "10.0.2.15,1.1.1.1,1:WL3dDG2wqqKdM3YGUAMdCzGrt+Q=,\"NOERROR\"\n",
      "10.0.2.15,1.1.1.1,1:KKBjPRVYug11LcnE75EdHClxVSM=,\"NOERROR\"\n",
      "10.0.2.15,8.8.8.8,1:g19tqLVYaZQ/GYEhh47IHqcCk10=,\"NOERROR\"\n",
      "10.0.2.15,8.8.8.8,1:LV7L8+e0VvqCB7Y55qAoc8yIXZw=,\"NOERROR\"\n",
      "10.0.2.15,8.8.8.8,1:S4ScttmUOWEqi5StoJsQX587o2I=,\"NOERROR\"\n",
      "10.0.2.15,1.1.1.1,1:Qt7oBzh9sETLqpidgXNpzjtjFIA=,\"NOERROR\"\n",
      "10.0.2.15,1.1.1.1,1:ME7gh8MmMJWlJZs+cu2iHQm5Er8=,\"NOERROR\"\n",
      "10.0.2.15,8.8.8.8,1:pqB1jo7QMPxuohfJ88nMwy01SJQ=,\"NOERROR\"\n",
      "10.0.2.15,1.1.1.1,1:G9FD/onuex5ZUcljNxNyIQAGQdw=,\"NOERROR\"\n",
      "10.0.2.15,8.8.8.8,1:NuFL1bM3DZbaYyWil1yzabU1q3g=,\"NOERROR\"\n",
      "10.0.2.15,1.1.1.1,1:63Wld4wuZa8WzB+XNTNm+ohZsik=,\"NOERROR\"\n",
      "10.0.2.15,8.8.8.8,1:mXp6gSDwgJ+bhmNqmfB+xSfcRvk=,\"NOERROR\"\n",
      "10.0.2.15,1.1.1.1,1:ckkMOgcsOsUsgx2tUFriiIjPsBs=,\"NOERROR\"\n",
      "10.0.2.15,8.8.8.8,1:VRa6ybY6W5hzrTlOLkDvpjetgb8=,\"NOERROR\"\n",
      "10.0.2.15,1.1.1.1,1:1ZBLSbhU3NaxqJyQeOvGc8yFNY0=,\"NOERROR\"\n",
      "10.0.2.15,8.8.8.8,1:lW4Ob8b5VQ569WBvDYkvsYKLkMk=,\"NOERROR\"\n",
      "10.0.2.15,8.8.8.8,1:SpRxcazK7Aqy4sUsCwzPyUew97I=,\"NOERROR\"\n",
      "10.0.2.15,8.8.8.8,1:A92Rq6LMDMJiibWIeeGWj9e9FTY=,\"NOERROR\"\n",
      "10.0.2.15,1.1.1.1,1:PpSMrdpNpDW19SOWevNntHIh3Qo=,\"NOERROR\"\n",
      "10.0.2.15,8.8.8.8,1:lMoIg8yRgwnuQ8HvsysV0ZGM7bo=,\"NOERROR\"\n",
      "10.0.2.15,1.1.1.1,1:zeXjSxhlKlMrxAjlArRZ9adx1OU=,\"NOERROR\"\n",
      "10.0.2.15,8.8.8.8,1:Htk6W2+IybyDH5R7rRkCBuGNwzM=,\"NOERROR\"\n",
      "10.0.2.15,1.1.1.1,1:WLHmK21exfkUDyRo7tfCJh74BX8=,\"NOERROR\"\n",
      "10.0.2.15,8.8.8.8,1:4KuLBo+HS/X9y7XuxwoGqb2Dm4E=,\"NOERROR\"\n",
      "10.0.2.15,1.1.1.1,1:Rv1MMluR7T3bwPWtAqNL3zy5nEQ=,\"NOERROR\"\n",
      "10.0.2.15,8.8.8.8,1:MvtQ4a4ZFli7NGkz/I7O55LX6pw=,\"NOERROR\"\n",
      "10.0.2.15,8.8.8.8,1:G0PiHmISA7cb2QtfqIekg0w1GI0=,\"NOERROR\"\n",
      "10.0.2.15,1.1.1.1,1:/L/dFszMRysabyl/oq3CkIZRRDo=,\"NOERROR\"\n",
      "10.0.2.15,8.8.8.8,1:H4dEY8Nut/V/6lBtqt3ChwqM31I=,\"NOERROR\"\n",
      "10.0.2.15,8.8.8.8,1:2SruHxou1tZD1i8KIPTKVK24VmM=,\"NOERROR\"\n",
      "10.0.2.15,1.1.1.1,1:DAjbPyO2/Rd+wOZjvB7GTcVyT+A=,\"NOERROR\"\n",
      "10.0.2.15,8.8.8.8,1:ihIvIVfOXbpDu8g92BIcVxoreeY=,\"NOERROR\"\n",
      "10.0.2.15,1.1.1.1,1:G8AwqJCCQVkbLEHWTsWQG7IUpk4=,\"NOERROR\"\n",
      "10.0.2.15,8.8.8.8,1:NQWY6KCcCe32BMFW2lu9SKBZmUc=,\"NOERROR\"\n",
      "10.0.2.15,1.1.1.1,1:Bb+Lrl2O9FBA0/SDvV+eNU9EoE0=,\"NOERROR\"\n",
      "10.0.2.15,8.8.8.8,1:fcqPALVJnn4JhblWwqLJAnMxtRY=,\"NOERROR\"\n",
      "10.0.2.15,1.1.1.1,1:3hdns7ayaf/mFXTpb3u+8SvHYeA=,\"NOERROR\"\n",
      "10.0.2.15,8.8.8.8,1:7J6TbbgCL6EIAAgT/2+CMGDlXfw=,\"NOERROR\"\n",
      "10.0.2.15,1.1.1.1,1:OTEcQZyBEh3Xpj0pLzNOGWAJTeA=,\"NOERROR\"\n",
      "10.0.2.15,1.1.1.1,1:pWGyFDGvwghpvzhQWyjWAdpT4EQ=,\"NOERROR\"\n",
      "10.0.2.15,1.1.1.1,1:+KlJGU9FDgMx/CusIudPPDrxMME=,\"NOERROR\"\n",
      "10.0.2.15,8.8.8.8,1:NdhCFnALMOm6Qu4q+FDl7zIhIKg=,\"NOERROR\"\n",
      "10.0.2.15,1.1.1.1,1:SEA98Xd0bGuiSlgmlpsnnPBgj6E=,\"NOERROR\"\n",
      "10.0.2.15,8.8.8.8,1:6vO/VZBzovgP4XzEqB/vHtueK6U=,\"NOERROR\"\n",
      "10.0.2.15,8.8.8.8,1:m90741YkyFZvpP45FrWq8si9SeA=,\"NOERROR\"\n",
      "10.0.2.15,1.1.1.1,1:jABsWNnPUJ4X0ZGLdChoGHsNap4=,\"NOERROR\"\n",
      "10.0.2.15,8.8.8.8,1:bzEB1kT80ShD3Lp69pmHGVMe4Vw=,\"NOERROR\"\n",
      "10.0.2.15,8.8.8.8,1:cbwhwTS4Yw6y9yx5FpQjTpXWkrc=,\"NOERROR\"\n",
      "10.0.2.15,1.1.1.1,1:sbc6VmA3ty19tiaSgZDLeQOOycM=,\"NOERROR\"\n",
      "10.0.2.15,8.8.8.8,1:akZbvGZSYp8NAwfxdNGR4b4rbbE=,\"NOERROR\"\n",
      "10.0.2.15,1.1.1.1,1:N/FTgOBYcjojhdRaeikQ7B9aJ0o=,\"NOERROR\"\n",
      "10.0.2.15,8.8.8.8,1:Ewn626eX27+ja/zDh1rEuKKHmic=,\"NOERROR\"\n",
      "10.0.2.15,1.1.1.1,1:KuUi1fFaDOFhc3oVPJ7i7KugwjE=,\"NOERROR\"\n",
      "10.0.2.15,8.8.8.8,1:4+O0jZqbI3YTU5lkbzBmgM564WM=,\"NOERROR\"\n",
      "10.0.2.15,1.1.1.1,1:xwC8yGHMBmXsUL9Ygp5dD6R8Nzc=,\"NOERROR\"\n",
      "10.0.2.15,8.8.8.8,1:rN18V6i5RK8ss1YCRrCiJKKwb5U=,\"NOERROR\"\n",
      "10.0.2.15,1.1.1.1,1:2wI4a2NxeZxFTsf2MW303bi3ohw=,\"NOERROR\"\n",
      "10.0.2.15,8.8.8.8,1:KFLKCQsyxADPa+JiG1dv7LEBugk=,\"NOERROR\"\n",
      "10.0.2.15,1.1.1.1,1:nlrnttqKx4ZN9Ht4HgRef3PbKEQ=,\"NOERROR\"\n",
      "10.0.2.15,8.8.8.8,1:MbxqQzTpyBhjJDftgWa28z5tcRE=,\"NOERROR\"\n",
      "10.0.2.15,8.8.8.8,1:qA6fqgxgjd1I2qRG/nbEtyYd3Tw=,\"NOERROR\"\n",
      "10.0.2.15,1.1.1.1,1:B1zoHPxo33JtC+Wwdo/VXfrdwTo=,\"NOERROR\"\n",
      "10.0.2.15,1.1.1.1,1:MeoVl5DeTduufOdfn8T0W1APPcc=,\"NOERROR\"\n",
      "10.0.2.15,8.8.8.8,1:4Gy1wkJv1sY4wGsjlcjIO1Gn4hU=,\"NOERROR\"\n",
      "10.0.2.15,8.8.8.8,1:4cRvvckl1LbyGfsDxurqTsek3pg=,\"NOERROR\"\n",
      "10.0.2.15,1.1.1.1,1:K61VblvcwvgniQJGmeIF9Rjv4Lw=,\"NOERROR\"\n",
      "\n",
      "-----star-mini.c10r.facebook.com-----\n",
      "Src IP, Dst IP, Community Id, Status Code\n",
      "10.0.2.15,10.0.2.3,1:yI07RLtRHyJKge6xkjC5VBv4VRM=,\"NOERROR\"\n",
      "10.0.2.15,10.0.2.3,1:R0yyBP3V/0JZjKPChHSJQbQS+uY=,\"NOERROR\"\n",
      "10.0.2.15,10.0.2.3,1:B9Hrpf5C1m38JHsH7SKwvhgD2SA=,\"NOERROR\"\n",
      "10.0.2.15,10.0.2.3,1:IKJtG9cdglz6DJj8tI9F4NDdQlM=,\"NOERROR\"\n",
      "10.0.2.15,10.0.2.3,1:Ahd1SGkSCCJShxzG1dIGcOkT+uc=,\"NOERROR\"\n",
      "10.0.2.15,10.0.2.3,1:eWD3Y0a8MtlZgDuc0bcThkfIQBI=,\"NOERROR\"\n",
      "10.0.2.15,10.0.2.3,1:b8s30UucNS23I5qbtf699rIXGXU=,\"NOERROR\"\n",
      "10.0.2.15,10.0.2.3,1:TV9iReU/CjbFS090mvS9JSZITRU=,\"NOERROR\"\n",
      "10.0.2.15,10.0.2.3,1:pizvSPYRGKj7rg/wovhKFOV34/A=,\"NOERROR\"\n",
      "10.0.2.15,10.0.2.3,1:u8pJVSLw9lAjENwSfe4OVNmcjuk=,\"NOERROR\"\n",
      "10.0.2.15,10.0.2.3,1:hwS2y++GxTOhaDkn+fSW6QC6HAM=,\"NOERROR\"\n",
      "10.0.2.15,10.0.2.3,1:5cAnmADbnfFFvHvzeVm32y5wloI=,\"NOERROR\"\n",
      "10.0.2.15,10.0.2.3,1:hcEET6tBls3r8ZPiYYq4L3Ha1SA=,\"NOERROR\"\n",
      "10.0.2.15,10.0.2.3,1:IMgM44WeILDrERTSmu2TeAVFDW4=,\"NOERROR\"\n",
      "10.0.2.15,10.0.2.3,1:7ruww5Djbii5qNSEs3Q/VESpHfs=,\"NOERROR\"\n",
      "10.0.2.15,10.0.2.3,1:Ncl09pifSa8B1V5fOuRg9bWzi/M=,\"NOERROR\"\n",
      "10.0.2.15,10.0.2.3,1:PO9TD6yHbCJnsQxEvasg1dkcRaM=,\"NOERROR\"\n",
      "10.0.2.15,10.0.2.3,1:Yg24XHANosZj389VPEa3dqWBigM=,\"NOERROR\"\n",
      "10.0.2.15,10.0.2.3,1:xidufg6ynYb1lE3Am2so5WmKRqs=,\"NOERROR\"\n",
      "10.0.2.15,10.0.2.3,1:5bjnSdOL9F1+Bfx92KhMrGwGGKE=,\"NOERROR\"\n",
      "10.0.2.15,10.0.2.3,1:/dMZlXVU9pg8kUYkwk8i20pjBgs=,\"NOERROR\"\n",
      "10.0.2.15,10.0.2.3,1:ZwiVllsM8634dtd+mHGTJR9ssd8=,\"NOERROR\"\n",
      "10.0.2.15,10.0.2.3,1:xe7L67xm0YixU0qbQc4mwJWcNgc=,\"NOERROR\"\n",
      "10.0.2.15,10.0.2.3,1:tH92exiaxLc94EoB3UoGW39Gy1Q=,\"NOERROR\"\n",
      "10.0.2.15,10.0.2.3,1:vw5HlmYozS/zuSiouqAJBGX78/4=,\"NOERROR\"\n",
      "10.0.2.15,10.0.2.3,1:nIKUp/r93QakcrmCvlbtT1JpnYQ=,\"NOERROR\"\n",
      "10.0.2.15,10.0.2.3,1:JJBDNl2waylBYHuC1CEXZfqo57c=,\"NOERROR\"\n",
      "10.0.2.15,10.0.2.3,1:ecJFLL44LoMZ4SnF0PfFY2NelxA=,\"NOERROR\"\n",
      "10.0.2.15,10.0.2.3,1:M2gX+7K05TtC21qVDuQKMP9sKA4=,\"NOERROR\"\n",
      "10.0.2.15,10.0.2.3,1:pz8dTdGbkMgjwQKfhBiswpVyMsU=,\"NOERROR\"\n",
      "10.0.2.15,10.0.2.3,1:a5ld+IfrJ5O50SLLk7NPRguOGdM=,\"NOERROR\"\n",
      "10.0.2.15,10.0.2.3,1:dbQLVtZjc7FQjC/7QHdWpx+6my4=,\"NOERROR\"\n",
      "10.0.2.15,10.0.2.3,1:av9UvzZvgjYJ/I6zJSbzPsKSzZk=,\"NOERROR\"\n",
      "10.0.2.15,10.0.2.3,1:2hIvPEZAyrstEoaUS95MJkVhoQc=,\"NOERROR\"\n",
      "10.0.2.15,10.0.2.3,1:fZ/G+zK4Ewhj8NPWCn47+zU9jg4=,\"NOERROR\"\n",
      "10.0.2.15,10.0.2.3,1:cGSccQPN8gJNkOGhPMzpcuvttTg=,\"NOERROR\"\n",
      "10.0.2.15,10.0.2.3,1:mTA3clj1Rmg1bVnGTlYn9JDN3HA=,\"NOERROR\"\n",
      "10.0.2.15,10.0.2.3,1:v58ZIVa6EycazwFu7KdWxTL/EWk=,\"NOERROR\"\n",
      "10.0.2.15,10.0.2.3,1:kZU+iJgAGBg/QTHbI2I7rpds8Xs=,\"NOERROR\"\n",
      "10.0.2.15,10.0.2.3,1:NFn99cD7XlXckVsyfJwROkYjysE=,\"NOERROR\"\n",
      "10.0.2.15,10.0.2.3,1:Pn/aF84fiJMjpgRj/pxyoeoWNoc=,\"NOERROR\"\n",
      "10.0.2.15,10.0.2.3,1:U1Jo+cdKNXHpZiyw7kL7wGH4R7o=,\"NOERROR\"\n",
      "10.0.2.15,10.0.2.3,1:B2WoKkGaA2hbaF7pH3n5wq/V38k=,\"NOERROR\"\n",
      "10.0.2.15,10.0.2.3,1:enO6GK76hJqN2YIr6ad3DHVwXkM=,\"NOERROR\"\n",
      "10.0.2.15,10.0.2.3,1:8kIeSNq0lq26V7EmwJ2x93Z2L5g=,\"NOERROR\"\n",
      "10.0.2.15,10.0.2.3,1:ynaQPtmYWTsWrVIoELaHfKVbtDw=,\"NOERROR\"\n",
      "10.0.2.15,10.0.2.3,1:xJMZqhbglreKT2pSSthLvY+gs6U=,\"NOERROR\"\n",
      "10.0.2.15,10.0.2.3,1:XorF9acg2Z6CjkHZjX1iX8B/W30=,\"NOERROR\"\n",
      "10.0.2.15,10.0.2.3,1:FPOCK2DXZxZSCnKhI4JIusdjfTc=,\"NOERROR\"\n",
      "10.0.2.15,10.0.2.3,1:iqrcJWU7SPbUDiB6xW34VjuO8Os=,\"NOERROR\"\n",
      "10.0.2.15,10.0.2.3,1:hIf+B5iCn6grrj6LiBCnx6fbwc0=,\"NOERROR\"\n",
      "10.0.2.15,10.0.2.3,1:ePWKTsNHEG4VRCV9FcA8hSK/i+g=,\"NOERROR\"\n",
      "10.0.2.15,10.0.2.3,1:q4+xMFs29qqcCPN8qzcm9qmf1GY=,\"NOERROR\"\n",
      "10.0.2.15,10.0.2.3,1:VH2OQdZwoeJVHp0+aw2B64qx99c=,\"NOERROR\"\n",
      "10.0.2.15,10.0.2.3,1:zcweKA3f0T5nl3uy5xPGzzZ096k=,\"NOERROR\"\n",
      "10.0.2.15,10.0.2.3,1:G6BAORBvtx1mj1ThuEzrVP20HcU=,\"NOERROR\"\n",
      "10.0.2.15,10.0.2.3,1:vQm/2PQ3+axG0tPzzshbs9PUdY0=,\"NOERROR\"\n",
      "10.0.2.15,10.0.2.3,1:zvEh/tm0dTUlEShBq04GHR3DcOs=,\"NOERROR\"\n",
      "10.0.2.15,10.0.2.3,1:zivctGg4X/doyGlnRqUKC7Odm7c=,\"NOERROR\"\n",
      "10.0.2.15,10.0.2.3,1:uHu2S6drCtM9eYLFnR17lmwDJlo=,\"NOERROR\"\n",
      "10.0.2.15,10.0.2.3,1:vbtfRyLDYoevjE7hn8kePpBtr4o=,\"NOERROR\"\n",
      "10.0.2.15,10.0.2.3,1:ozymCTWb5suy6eFQGkdGzRhDh4E=,\"NOERROR\"\n",
      "10.0.2.15,10.0.2.3,1:h9bBrzmiTNsFKZ/wnWX0/01CNFU=,\"NOERROR\"\n",
      "10.0.2.15,10.0.2.3,1:eJL3SMX78e6GOX89arBNv+z57Ck=,\"NOERROR\"\n",
      "10.0.2.15,10.0.2.3,1:FoKQ5jnFwKz9q4XM8TqJxyDiF5U=,\"NOERROR\"\n",
      "10.0.2.15,10.0.2.3,1:+MSV8xp/PBYNcCeQNqDDGn4a0lQ=,\"NOERROR\"\n",
      "10.0.2.15,10.0.2.3,1:CyEtCxB6S8l8uNhUVaWN51jhBtI=,\"NOERROR\"\n",
      "10.0.2.15,10.0.2.3,1:IxjX8yPQLONwmiwyF7hQgGpbLCE=,\"NOERROR\"\n",
      "10.0.2.15,10.0.2.3,1:RAq/oRf3yIVD0k7B7+LA+R744cY=,\"NOERROR\"\n",
      "10.0.2.15,10.0.2.3,1:M/VobW2bCSu1+WzrvgkFDsR09u8=,\"NOERROR\"\n",
      "10.0.2.15,10.0.2.3,1:iavhDihDD5jqJwmKzFvcpbAG5uE=,\"NOERROR\"\n",
      "10.0.2.15,10.0.2.3,1:Z+DVUUz8OUwgvINsmdBqLFD1szI=,\"NOERROR\"\n",
      "10.0.2.15,10.0.2.3,1:fja7ALHoZoFo27JsJtFayw+HNVM=,\"NOERROR\"\n",
      "10.0.2.15,10.0.2.3,1:yU1mFNnsqtjh+sYaW6E2GNorvUs=,\"NOERROR\"\n",
      "10.0.2.15,10.0.2.3,1:w5FgTsGFhOJ2J7CykaeZ0DaHhvc=,\"NOERROR\"\n",
      "10.0.2.15,10.0.2.3,1:ea5cLdElbdDY2+kr8VKD0F6Oe78=,\"NOERROR\"\n",
      "10.0.2.15,10.0.2.3,1:F9aQcnI4h1emYyQxdZQk2PEFPFI=,\"NOERROR\"\n",
      "10.0.2.15,10.0.2.3,1:498mejk+gsroACw8CE7/M8sH2ug=,\"NOERROR\"\n",
      "10.0.2.15,10.0.2.3,1:FYvU+24YNzT3pngquwA+vGcyOoQ=,\"NOERROR\"\n",
      "10.0.2.15,10.0.2.3,1:QoZkkDM6CZwe0IGcuNCS8EbezF4=,\"NOERROR\"\n",
      "10.0.2.15,10.0.2.3,1:bDlNB60LqRLS/yZvzFInwDWWmWk=,\"NOERROR\"\n",
      "10.0.2.15,10.0.2.3,1:vddLEuWVK/v4XaAWvfFPzzJVu3c=,\"NOERROR\"\n",
      "10.0.2.15,10.0.2.3,1:MuVjZ1hIgIDYTnuLba8g3FNxa/o=,\"NOERROR\"\n",
      "10.0.2.15,10.0.2.3,1:Bh17Y70GFyEHUD4BDo7Fcn6aIMc=,\"NOERROR\"\n",
      "10.0.2.15,10.0.2.3,1:HYE1fNOsq9jhITYSgXkPDgobZgY=,\"NOERROR\"\n",
      "10.0.2.15,10.0.2.3,1:T8UlVbXgotBlGvIzGJzfdp/37pM=,\"NOERROR\"\n",
      "10.0.2.15,10.0.2.3,1:IS+fodbnobwazQa8unwqJtI2yXQ=,\"NOERROR\"\n",
      "10.0.2.15,10.0.2.3,1:jOAhuUkYtLFmZ2551MBCjw4Htr4=,\"NOERROR\"\n",
      "10.0.2.15,10.0.2.3,1:v3obRtHxVVhlqpA41zp03kkVzE4=,\"NOERROR\"\n",
      "10.0.2.15,10.0.2.3,1:cQ4XN2ar1KAtABdEid31UY0qOA0=,\"NOERROR\"\n",
      "10.0.2.15,10.0.2.3,1:QOoZpJtancTtCtG0kFn/g4kgZko=,\"NOERROR\"\n",
      "10.0.2.15,10.0.2.3,1:luM9BIRr5LciHuKxGudprKUCgSk=,\"NOERROR\"\n",
      "10.0.2.15,10.0.2.3,1:k1YD518LwupSew00p+yR763sV44=,\"NOERROR\"\n",
      "10.0.2.15,10.0.2.3,1:e9+ijC3tO+ABfIKfOetlFRlwEFY=,\"NOERROR\"\n",
      "10.0.2.15,10.0.2.3,1:ET3nQ6/PMol9ZMJ9xyjKlRBW6Xc=,\"NOERROR\"\n",
      "10.0.2.15,10.0.2.3,1:aicRWinvDbCqojyYY6lOjt0V7UE=,\"NOERROR\"\n",
      "10.0.2.15,10.0.2.3,1:qz2kvgpJcY/ZgwOfg261svPEEaw=,\"NOERROR\"\n",
      "10.0.2.15,10.0.2.3,1:SARYYuJlh8i/BV4YTE1lAANyke0=,\"NOERROR\"\n",
      "10.0.2.15,10.0.2.3,1:SXWXZanx2LxI/iyETBK6E753ORY=,\"NOERROR\"\n",
      "10.0.2.15,10.0.2.3,1:YzKAdwcWBVL4X9PEf9qwsmHjAMY=,\"NOERROR\"\n",
      "\n",
      "-----github.map.fastly.net-----\n",
      "Src IP, Dst IP, Community Id, Status Code\n",
      "10.0.2.15,10.0.2.3,1:RwVT08Uz9h/vIpUSL3ll3QncHts=,\"NOERROR\"\n",
      "10.0.2.15,10.0.2.3,1:EVQor7kSwVqMmXTVRGSbF4s2Ztg=,\"NOERROR\"\n",
      "10.0.2.15,10.0.2.3,1:VKIjVU7TwSO6Txt5DYnEmI5OuXU=,\"NOERROR\"\n",
      "10.0.2.15,10.0.2.3,1:H1wIaVq0WUn9Um91OtKE2bwqpZo=,\"NOERROR\"\n",
      "10.0.2.15,10.0.2.3,1:wy0ksvgjrZZB7TkyXbhUNCXB2Lc=,\"NOERROR\"\n",
      "10.0.2.15,10.0.2.3,1:IurIhedAmHu6uZCyqNaWzKJ+ugQ=,\"NOERROR\"\n",
      "10.0.2.15,10.0.2.3,1:PbTpM4b5C5WAZwYewwOA90nQuuY=,\"NOERROR\"\n",
      "10.0.2.15,10.0.2.3,1:zh7qkWc3YuIgPYZXbSlPYOzWxfc=,\"NOERROR\"\n",
      "10.0.2.15,10.0.2.3,1:Zttf2jwwlR6/7MM11yA1pcrU+t4=,\"NOERROR\"\n",
      "10.0.2.15,10.0.2.3,1:y0pVuuQ5Yhqb52dm8XFou0d2SE0=,\"NOERROR\"\n",
      "10.0.2.15,10.0.2.3,1:Yv9x9j7eWMwHZuTZWIqyQ9pbCNE=,\"NOERROR\"\n",
      "10.0.2.15,10.0.2.3,1:vAfnUClhFJJJ/FtiFgxHem3DuxM=,\"NOERROR\"\n",
      "10.0.2.15,10.0.2.3,1:5Y6msLSiFIAMGEk7Vlimq5zNMM0=,\"NOERROR\"\n",
      "10.0.2.15,10.0.2.3,1:ZXXT1YtwwdAtZj3ndLaUBVbw+mY=,\"NOERROR\"\n",
      "10.0.2.15,10.0.2.3,1:mN96nj2+zQOYIrkJSf1LnPWdCYg=,\"NOERROR\"\n",
      "10.0.2.15,10.0.2.3,1:+R8vqSDfviRGOz57igwHA1qkUqc=,\"NOERROR\"\n",
      "10.0.2.15,10.0.2.3,1:ZkVRAENXYbS4+xxnd4tsS6jpWlo=,\"NOERROR\"\n",
      "10.0.2.15,10.0.2.3,1:8ZyHaOViQg6BDFuXR1rLZjun6o0=,\"NOERROR\"\n",
      "10.0.2.15,10.0.2.3,1:j9yQUosKYvfiUUwE6SOEmwN0VAQ=,\"NOERROR\"\n",
      "10.0.2.15,10.0.2.3,1:yeLy0Fe5aJmvTvODTT6YHuzjIvg=,\"NOERROR\"\n",
      "10.0.2.15,10.0.2.3,1:sU+ss19LfFoHUMRdiNvsf6r8zF0=,\"NOERROR\"\n",
      "10.0.2.15,10.0.2.3,1:fbo8Dc+jGuxYypK3b1TS0dTr7fk=,\"NOERROR\"\n",
      "10.0.2.15,10.0.2.3,1:8YL49gxHyMK1LNRHxnY6y6C1rOE=,\"NOERROR\"\n",
      "10.0.2.15,10.0.2.3,1:81OGKszksy3c4Dml6sZPMgxAzi0=,\"NOERROR\"\n",
      "10.0.2.15,10.0.2.3,1:qDoVUlV1PF66j+ET9ztxyIlyFWE=,\"NOERROR\"\n",
      "10.0.2.15,10.0.2.3,1:8IDJ7nj2zYdwRC6QiipCOLC1TR4=,\"NOERROR\"\n",
      "10.0.2.15,10.0.2.3,1:FoMaL2MXbCMqdzEGIi5cQfF1WXs=,\"NOERROR\"\n",
      "10.0.2.15,10.0.2.3,1:DDId1UhMr5iO36dy8edw+xt6j9I=,\"NOERROR\"\n",
      "10.0.2.15,10.0.2.3,1:9UvD/V8MIlZEgK0XebT5K60rjjQ=,\"NOERROR\"\n",
      "10.0.2.15,10.0.2.3,1:lXkrYGUOKFGlp53ju0Zm5a3a9RE=,\"NOERROR\"\n",
      "10.0.2.15,10.0.2.3,1:s4RDLHD2bC+62lJg3XfK9rlYIoI=,\"NOERROR\"\n",
      "10.0.2.15,10.0.2.3,1:7118WMBWuNJl/1G6ho7+weNkaYs=,\"NOERROR\"\n",
      "10.0.2.15,10.0.2.3,1:secPTcwyNoekrSRO60nKvbSX6v0=,\"NOERROR\"\n",
      "\n",
      "-----sysadminnid.tumblr.com-----\n",
      "Src IP, Dst IP, Community Id, Status Code\n",
      "10.0.2.15,10.0.2.3,1:pHCqLA+wbr8lrrxxY+Hg70cfmgw=,\"NOERROR\"\n",
      "10.0.2.15,10.0.2.3,1:+/ULzSHEp8o793QwckdhoGjonW0=,\"NOERROR\"\n",
      "10.0.2.15,10.0.2.3,1:2S8AiEuAtloh5JsGsLjw0djFLjA=,\"NOERROR\"\n",
      "10.0.2.15,10.0.2.3,1:0KmdF7JvmZ27yJxZXiTKJv5a7hI=,\"NOERROR\"\n",
      "10.0.2.15,10.0.2.3,1:1OdF53g+BmCBwmKx2Z7AsGOASr4=,\"NOERROR\"\n",
      "10.0.2.15,10.0.2.3,1:HzeVCkel99Fabs5pdprefQrp9u0=,\"NOERROR\"\n",
      "10.0.2.15,10.0.2.3,1:b4USJyJc48evIr12kk7tU7qdZJw=,\"NOERROR\"\n",
      "10.0.2.15,10.0.2.3,1:z3bsSbCknx3R56KtoKVNhHCTV98=,\"NOERROR\"\n",
      "10.0.2.15,10.0.2.3,1:ZL0bGrnmiqDK6v5pwL3b2QzSNfY=,\"NOERROR\"\n",
      "10.0.2.15,10.0.2.3,1:PXRPntf77/dDbM/iWWaBGytWwi8=,\"NOERROR\"\n",
      "10.0.2.15,10.0.2.3,1:UHvHdywjer2QID4fZJq0Ajwg8UE=,\"NOERROR\"\n",
      "10.0.2.15,10.0.2.3,1:qlmiVs86IQLUZCKWhClQXjsrirU=,\"NOERROR\"\n",
      "10.0.2.15,10.0.2.3,1:yUTIcGZrlb3bWU6tO2ndbq7LmLw=,\"NOERROR\"\n",
      "10.0.2.15,10.0.2.3,1:84qA2tzMl/WmWaaTCtvhDhaQjU0=,\"NOERROR\"\n",
      "10.0.2.15,10.0.2.3,1:hCCo1v67SNQydLreT15ORPXCn90=,\"NOERROR\"\n",
      "10.0.2.15,10.0.2.3,1:yPXja7i7r++mqvTgyIn+G69nfZc=,\"NOERROR\"\n",
      "10.0.2.15,10.0.2.3,1:2YFq5Dtz2cU8zDS/fr3eCfV76WU=,\"NOERROR\"\n",
      "10.0.2.15,10.0.2.3,1:wB3CK+Q8ITx1Gvd9pxxLjNoZffI=,\"NOERROR\"\n",
      "10.0.2.15,10.0.2.3,1:p68HSmAi/6oaYU9A8iK9RueoJWs=,\"NOERROR\"\n",
      "10.0.2.15,10.0.2.3,1:6XML5HtVXw/z6CrXD7YAfjyuxI0=,\"NOERROR\"\n",
      "10.0.2.15,10.0.2.3,1:2ciHOsOqbcWX/exbTT483hrrWuc=,\"NOERROR\"\n",
      "10.0.2.15,10.0.2.3,1:+pIIm3eojf5jnYhczUdpig115Qs=,\"NOERROR\"\n",
      "10.0.2.15,10.0.2.3,1:1EHsMWrnZt6aRz1FzjCQAabtjao=,\"NOERROR\"\n",
      "10.0.2.15,10.0.2.3,1:DdcibzZoBMeetCaiIzA2GyeX2M4=,\"NOERROR\"\n",
      "10.0.2.15,10.0.2.3,1:jB/IJF12kDZxXwUHCvS0ODJfOac=,\"NOERROR\"\n",
      "10.0.2.15,10.0.2.3,1:kkFwMSDEc8JBAtJt0YnpWIvMsxk=,\"NOERROR\"\n",
      "10.0.2.15,10.0.2.3,1:4DdQNXrtEJCNRvXGERPoRVtvDJg=,\"NOERROR\"\n",
      "10.0.2.15,10.0.2.3,1:ah1kO5xmKEGyxtf3D/pF3UjhkJI=,\"NOERROR\"\n",
      "10.0.2.15,10.0.2.3,1:lLonlj3sINm1Y6ArsfKtVKU0yLg=,\"NOERROR\"\n",
      "10.0.2.15,10.0.2.3,1:YnQijQ2sIjcqmp+8dWw2m0ceoLQ=,\"NOERROR\"\n",
      "10.0.2.15,10.0.2.3,1:7aVpicf7roSJYWXJCx1legx18sc=,\"NOERROR\"\n",
      "10.0.2.15,10.0.2.3,1:CR7mL/HK9zuq/3aOWh3KT7K2Ppg=,\"NOERROR\"\n",
      "10.0.2.15,10.0.2.3,1:x7yzddZWsfBxtkJSEeb4fVBa0SQ=,\"NOERROR\"\n",
      "10.0.2.15,10.0.2.3,1:OIGvaXYCXIQd/wSR5NhTXxH4F+I=,\"NOERROR\"\n",
      "10.0.2.15,10.0.2.3,1:NnhlkLC020VnozlpoT8G0YP7dfo=,\"NOERROR\"\n",
      "10.0.2.15,10.0.2.3,1:BkBoV6vSgMwUX7tb1e6QN35NcU4=,\"NOERROR\"\n",
      "\n",
      "-----self-signed.badssl.com-----\n",
      "Src IP, Dst IP, Community Id, Status Code\n",
      "10.0.2.15,10.0.2.3,1:t+VIH3cYWSyOQHMCr73Sy5rlMh8=,\"NOERROR\"\n",
      "10.0.2.15,10.0.2.3,1:qzBE5OHjlR8IjULsREDCYSFsHjE=,\"NOERROR\"\n",
      "10.0.2.15,10.0.2.3,1:OtyF96ZYAAUQ+TMdH+8QBi/M01o=,\"NOERROR\"\n",
      "10.0.2.15,10.0.2.3,1:QJbP/Pix8PgEqLI4NKQzEEd9KJE=,\"NOERROR\"\n",
      "10.0.2.15,10.0.2.3,1:XPB4pB6lv2t3U81zu7lYBFO/UYM=,\"NOERROR\"\n",
      "10.0.2.15,10.0.2.3,1:cGbe1Hx089DxMEs2eKoRfMFUq+U=,\"NOERROR\"\n",
      "10.0.2.15,10.0.2.3,1:x6sHNII/WhMynspzGCbthytzTHU=,\"NOERROR\"\n",
      "10.0.2.15,10.0.2.3,1:ktw9LgUN2OyVKBsU7A1MKipBI3A=,\"NOERROR\"\n",
      "10.0.2.15,10.0.2.3,1:giJNOSXy8tGuJXzK1z9ZB9S/JrY=,\"NOERROR\"\n",
      "10.0.2.15,10.0.2.3,1:j4VXYUokr0q5ADqgADhhb3ZivEI=,\"NOERROR\"\n",
      "10.0.2.15,10.0.2.3,1:oGU0Ho8pfPbe931Ha0SuMfxtAzs=,\"NOERROR\"\n",
      "10.0.2.15,10.0.2.3,1:mqfU6KFrghPKHmKeAHk1NvsogDw=,\"NOERROR\"\n",
      "10.0.2.15,10.0.2.3,1:ik5N1R/S8SU36DMsLRBd8PSOrAQ=,\"NOERROR\"\n",
      "10.0.2.15,10.0.2.3,1:oue9QDXZV+UUXk3q2Nod1b5ZZwg=,\"NOERROR\"\n",
      "10.0.2.15,10.0.2.3,1:/8CO89Mq4ZLZ3PUnnwrneHOGKyo=,\"NOERROR\"\n",
      "10.0.2.15,10.0.2.3,1:3lDupvLRZnAIhBVhwzXXcYUIHnA=,\"NOERROR\"\n",
      "10.0.2.15,10.0.2.3,1:Ra3zY7TjKw/bQUl2VjUDZpBe9Yo=,\"NOERROR\"\n",
      "10.0.2.15,10.0.2.3,1:EV7V+owDNzH80tEAYaYgdCOLw/I=,\"NOERROR\"\n",
      "10.0.2.15,10.0.2.3,1:HC5mG1iMAYz004Lv9ySX32m/dXY=,\"NOERROR\"\n",
      "10.0.2.15,10.0.2.3,1:usNuat95rfV20k4PpcJf8hwQtKM=,\"NOERROR\"\n",
      "10.0.2.15,10.0.2.3,1:DQJGwuGP4EUAYXDuS/QRKn0TIjg=,\"NOERROR\"\n",
      "10.0.2.15,10.0.2.3,1:/RPIZLmzejorcvnxLHU2xYBamko=,\"NOERROR\"\n",
      "10.0.2.15,10.0.2.3,1:xf3I9qhGbUzzMvMdQSzCAahMbTU=,\"NOERROR\"\n",
      "10.0.2.15,10.0.2.3,1:8kU//o4Kv+UQW7kaufpmNbHaYQI=,\"NOERROR\"\n",
      "10.0.2.15,10.0.2.3,1:3ZCLzk4ECLf8/59rM5/oX6C9q9k=,\"NOERROR\"\n",
      "10.0.2.15,10.0.2.3,1:4V06g42B93aYkgnKPO7Ug1zhfxI=,\"NOERROR\"\n",
      "\n",
      "-----testmyids.com-----\n",
      "Src IP, Dst IP, Community Id, Status Code\n",
      "10.0.2.15,10.0.2.3,1:auqocfrbDfLEsC4lp6Xa+XILWI4=,\"NOERROR\"\n",
      "10.0.2.15,10.0.2.3,1:OlTNjf/Dp4iUExqmsfEvVKywvOo=,\"NOERROR\"\n",
      "10.0.2.15,10.0.2.3,1:r+vTOhptQW8CmMypPKxuJnWGh4c=,\"NOERROR\"\n",
      "10.0.2.15,10.0.2.3,1:UmRAwTSEjwHYhTidaM5TRmsKYDo=,\"NOERROR\"\n",
      "10.0.2.15,10.0.2.3,1:86SpnD7gXBOOzXhGJ7B+4iRD92w=,\"NOERROR\"\n",
      "10.0.2.15,10.0.2.3,1:D+7xvmDshxeRaHPY2nHXclx3/lU=,\"NOERROR\"\n",
      "10.0.2.15,10.0.2.3,1:LROWYcFTrorFa9u9qpFL9+e3pGk=,\"NOERROR\"\n",
      "10.0.2.15,10.0.2.3,1:rt6gkEc463Qsh4EVU+H4+KPiQ5M=,\"NOERROR\"\n",
      "10.0.2.15,10.0.2.3,1:pKAXETBqvyktE7S2/IUTQ2RRwaA=,\"NOERROR\"\n",
      "10.0.2.15,10.0.2.3,1:hgfS+hISPuDOH0KLyztmRm7vzcU=,\"NOERROR\"\n",
      "10.0.2.15,10.0.2.3,1:y3AeGiwYPj4EEeMoITQ/Mjheja8=,\"NOERROR\"\n",
      "10.0.2.15,10.0.2.3,1:xN2povIdK5smxEXdvcDWmF6PuDg=,\"NOERROR\"\n",
      "10.0.2.15,10.0.2.3,1:4oN9zdQ+Xa12SLjnNwl0VM+Ctr0=,\"NOERROR\"\n",
      "10.0.2.15,10.0.2.3,1:03sCB5vBHU/3h/6cX6KUgIt7EEc=,\"NOERROR\"\n",
      "10.0.2.15,10.0.2.3,1:x87Gsp8uh3GtBbppwqWQ+IviBcE=,\"NOERROR\"\n",
      "10.0.2.15,10.0.2.3,1:zP3i3Bh1Y35m+Odzl31Dt0pVP6c=,\"NOERROR\"\n",
      "10.0.2.15,10.0.2.3,1:QP3cZwxyTmxQGqe+shbC+mvhKFE=,\"NOERROR\"\n",
      "10.0.2.15,10.0.2.3,1:rAfEoeBtRQDvJ4jNDBV09kIDzLg=,\"NOERROR\"\n",
      "10.0.2.15,10.0.2.3,1:/O2p3E0fUVHwvdcHDHyqcUqKHeI=,\"NOERROR\"\n",
      "10.0.2.15,10.0.2.3,1:Ts+h0omTrq6l1DWiM7OUddfK7Mg=,\"NOERROR\"\n",
      "10.0.2.15,10.0.2.3,1:uPxrDBg9QHUc7NO2TFbGGF3Jkg8=,\"NOERROR\"\n",
      "10.0.2.15,10.0.2.3,1:QE0/iTKu7vDsMFqqur1iYyNbG7A=,\"NOERROR\"\n",
      "10.0.2.15,10.0.2.3,1:/RPIZLmzejorcvnxLHU2xYBamko=,\"NOERROR\"\n",
      "10.0.2.15,10.0.2.3,1:++1VwzHgGpAtJEotqNmmAi19ExA=,\"NOERROR\"\n",
      "\n",
      "-----raw.githubusercontent.com-----\n",
      "Src IP, Dst IP, Community Id, Status Code\n",
      "10.0.2.15,10.0.2.3,1:RwVT08Uz9h/vIpUSL3ll3QncHts=,\"NOERROR\"\n",
      "10.0.2.15,10.0.2.3,1:7118WMBWuNJl/1G6ho7+weNkaYs=,\"NOERROR\"\n",
      "10.0.2.15,10.0.2.3,1:H1wIaVq0WUn9Um91OtKE2bwqpZo=,\"NOERROR\"\n",
      "10.0.2.15,10.0.2.3,1:wy0ksvgjrZZB7TkyXbhUNCXB2Lc=,\"NOERROR\"\n",
      "10.0.2.15,10.0.2.3,1:PbTpM4b5C5WAZwYewwOA90nQuuY=,\"NOERROR\"\n",
      "10.0.2.15,10.0.2.3,1:zh7qkWc3YuIgPYZXbSlPYOzWxfc=,\"NOERROR\"\n",
      "10.0.2.15,10.0.2.3,1:y0pVuuQ5Yhqb52dm8XFou0d2SE0=,\"NOERROR\"\n",
      "10.0.2.15,10.0.2.3,1:Yv9x9j7eWMwHZuTZWIqyQ9pbCNE=,\"NOERROR\"\n",
      "10.0.2.15,10.0.2.3,1:5Y6msLSiFIAMGEk7Vlimq5zNMM0=,\"NOERROR\"\n",
      "10.0.2.15,10.0.2.3,1:ZXXT1YtwwdAtZj3ndLaUBVbw+mY=,\"NOERROR\"\n",
      "10.0.2.15,10.0.2.3,1:+R8vqSDfviRGOz57igwHA1qkUqc=,\"NOERROR\"\n",
      "10.0.2.15,10.0.2.3,1:ZkVRAENXYbS4+xxnd4tsS6jpWlo=,\"NOERROR\"\n",
      "10.0.2.15,10.0.2.3,1:j9yQUosKYvfiUUwE6SOEmwN0VAQ=,\"NOERROR\"\n",
      "10.0.2.15,10.0.2.3,1:yeLy0Fe5aJmvTvODTT6YHuzjIvg=,\"NOERROR\"\n",
      "10.0.2.15,10.0.2.3,1:fbo8Dc+jGuxYypK3b1TS0dTr7fk=,\"NOERROR\"\n",
      "10.0.2.15,10.0.2.3,1:8YL49gxHyMK1LNRHxnY6y6C1rOE=,\"NOERROR\"\n",
      "10.0.2.15,10.0.2.3,1:qDoVUlV1PF66j+ET9ztxyIlyFWE=,\"NOERROR\"\n",
      "10.0.2.15,10.0.2.3,1:8IDJ7nj2zYdwRC6QiipCOLC1TR4=,\"NOERROR\"\n",
      "10.0.2.15,10.0.2.3,1:DDId1UhMr5iO36dy8edw+xt6j9I=,\"NOERROR\"\n",
      "10.0.2.15,10.0.2.3,1:9UvD/V8MIlZEgK0XebT5K60rjjQ=,\"NOERROR\"\n",
      "10.0.2.15,10.0.2.3,1:s4RDLHD2bC+62lJg3XfK9rlYIoI=,\"NOERROR\"\n",
      "10.0.2.15,10.0.2.3,1:secPTcwyNoekrSRO60nKvbSX6v0=,\"NOERROR\"\n",
      "\n",
      "-----grafana.com-----\n",
      "Src IP, Dst IP, Community Id, Status Code\n",
      "10.0.2.15,10.0.2.3,1:Xh76kLDx6WRZC6YB0jAJQ79+V/4=,\"NOERROR\"\n",
      "10.0.2.15,10.0.2.3,1:Ax861yG8FzOPkj9V8l1+r7gzD3c=,\"NOERROR\"\n",
      "10.0.2.15,10.0.2.3,1:Jh1BLRnNzmlx8GwJTLA15VmqBNY=,\"NOERROR\"\n",
      "10.0.2.15,10.0.2.3,1:R6BeSv0vGSMNwnmxED+W0IHUHtA=,\"NOERROR\"\n",
      "10.0.2.15,10.0.2.3,1:5727EZ+ANyMfdaBhvQswrKbzuaQ=,\"NOERROR\"\n",
      "10.0.2.15,10.0.2.3,1:HVIZ+1MTqBz5tpiLPTRa6uM5U7g=,\"NOERROR\"\n",
      "10.0.2.15,10.0.2.3,1:muYneOEKclSidVbKCZJENNc3wtY=,\"NOERROR\"\n",
      "10.0.2.15,10.0.2.3,1:zZdqXw0m9LN0q8P35axujvOe3Wc=,\"NOERROR\"\n",
      "\n",
      "-----www.facebook.com-----\n",
      "Src IP, Dst IP, Community Id, Status Code\n",
      "10.0.2.15,10.0.2.3,1:kZU+iJgAGBg/QTHbI2I7rpds8Xs=,\"NOERROR\"\n",
      "10.0.2.15,10.0.2.3,1:NFn99cD7XlXckVsyfJwROkYjysE=,\"NOERROR\"\n",
      "10.0.2.15,10.0.2.3,1:zcweKA3f0T5nl3uy5xPGzzZ096k=,\"NOERROR\"\n",
      "10.0.2.15,10.0.2.3,1:G6BAORBvtx1mj1ThuEzrVP20HcU=,\"NOERROR\"\n",
      "10.0.2.15,10.0.2.3,1:S+XfjIyoofrSshimq3Bckd0AXK8=,\"NOERROR\"\n",
      "10.0.2.15,10.0.2.3,1:PfJPD/HfB+f4dQ8gToe/ugW6ym8=,\"NOERROR\"\n",
      "\n",
      "-----15.2.0.10.in-addr.arpa-----\n",
      "Src IP, Dst IP, Community Id, Status Code\n",
      "10.0.2.15,10.0.2.3,1:+DhHmLkmy01h/6+j5JUvEOSU51Y=,\"NXDOMAIN\"\n",
      "\n",
      "-----3.2.0.10.in-addr.arpa-----\n",
      "Src IP, Dst IP, Community Id, Status Code\n",
      "10.0.2.15,10.0.2.3,1:TXtPz0GYlsV1J7Z0M9yHMa/yhCQ=,\"NXDOMAIN\"\n",
      "\n",
      "-----testmyids.com.berylia.org-----\n",
      "Src IP, Dst IP, Community Id, Status Code\n",
      "10.0.2.15,10.0.2.3,1:xJ2IqsS7FtO5jJQ7jtVJR/2UDrk=,\"NXDOMAIN\"\n",
      "\n"
     ]
    }
   ],
   "source": [
    "for k, v in resps.items():\n",
    "    print(\"-----{}-----\".format(k))\n",
    "    print(v)"
   ]
  },
  {
   "cell_type": "markdown",
   "metadata": {},
   "source": [
    "Note the **fields** key in query. Since we know all fields and are doing queries programmatically, we could simply extract all dns fields from the list and ask them from moloch."
   ]
  },
  {
   "cell_type": "code",
   "execution_count": null,
   "metadata": {},
   "outputs": [],
   "source": [
    "dnsfields = [f for f in fields if \"dns.\" in f]"
   ]
  },
  {
   "cell_type": "code",
   "execution_count": 200,
   "metadata": {},
   "outputs": [],
   "source": [
    "endpoint = \"{}/{}\".format(molo_conn_string, Get.SESS_CSV)\n",
    "resps = {}\n",
    "for d in domains:\n",
    "    r = requests.get(endpoint, params={\n",
    "        \"date\": 2,\n",
    "        \"expression\": \"host.dns == {}\".format(d),\n",
    "        \"fields\": \",\".join(dnsfields)\n",
    "    }, auth=HTTPDigestAuth(user, passwd))\n",
    "    resps[d] = r.text"
   ]
  },
  {
   "cell_type": "code",
   "execution_count": 203,
   "metadata": {},
   "outputs": [
    {
     "name": "stdout",
     "output_type": "stream",
     "text": [
      "-----berylia.org-----\n",
      ",,,\"berylia.org\",1,,,,,,,,,,,,,,,,,,\"QUERY\",1,,,\"IN\",1,\"NS\",1,\"NOERROR\",1\n",
      "-----star-mini.c10r.facebook.com-----\n",
      "\"AS32934 Facebook, Inc.\",\"IE\",\"RIPE\",\"star-mini.c10r.facebook.com\",1,,\"31.13.72.36\",1,,,,,,,,,,,,,,,\"QUERY\",1,,,\"IN\",1,\"A\",1,\"NOERROR\",1\n",
      "-----github.map.fastly.net-----\n",
      ",,,\"raw.githubusercontent.com, github.map.fastly.net\",2,,,,,,,,,,,,,,,,,,\"QUERY\",1,,,\"IN\",1,\"AAAA\",1,\"NOERROR\",1\n",
      "-----sysadminnid.tumblr.com-----\n",
      ",,,\"sysadminnid.tumblr.com\",1,,,,,,,,,,,,,,,,,,\"QUERY\",1,,,\"IN\",1,\"AAAA\",1,\"NOERROR\",1\n",
      "-----self-signed.badssl.com-----\n",
      ",,,\"self-signed.badssl.com\",1,,,,,,,,,,,,,,,,,,\"QUERY\",1,,,\"IN\",1,\"AAAA\",1,\"NOERROR\",1\n",
      "-----testmyids.com-----\n",
      ",,,\"testmyids.com\",1,,,,,,,,,,,,,,,,,,\"QUERY\",1,,,\"IN\",1,\"AAAA\",1,\"NOERROR\",1\n",
      "-----raw.githubusercontent.com-----\n",
      ",,,\"raw.githubusercontent.com, github.map.fastly.net\",2,,,,,,,,,,,,,,,,,,\"QUERY\",1,,,\"IN\",1,\"AAAA\",1,\"NOERROR\",1\n",
      "-----grafana.com-----\n",
      ",,,\"grafana.com\",1,,,,,,,,,,,,,,,,,,\"QUERY\",1,,,\"IN\",1,\"AAAA\",1,\"NOERROR\",1\n",
      "-----www.facebook.com-----\n",
      "\"AS32934 Facebook, Inc.\",\"IE\",\"RIPE\",\"star-mini.c10r.facebook.com, www.facebook.com\",2,,\"31.13.72.36\",1,,,,,,,,,,,,,,,\"QUERY\",1,,,\"IN\",1,\"A\",1,\"NOERROR\",1\n",
      "-----15.2.0.10.in-addr.arpa-----\n",
      ",,,\"15.2.0.10.in-addr.arpa\",1,,,,,,,,,,,,,,,,,,\"QUERY\",1,,,\"IN\",1,\"PTR\",1,\"NXDOMAIN\",1\n",
      "-----3.2.0.10.in-addr.arpa-----\n",
      ",,,\"3.2.0.10.in-addr.arpa\",1,,,,,,,,,,,,,,,,,,\"QUERY\",1,,,\"IN\",1,\"PTR\",1,\"NXDOMAIN\",1\n",
      "-----testmyids.com.berylia.org-----\n",
      ",,,\"testmyids.com.berylia.org\",1,,,,,,,,,,,,,,,,,,\"QUERY\",1,,,\"IN\",1,\"A\",1,\"NXDOMAIN\",1\n"
     ]
    }
   ],
   "source": [
    "for k, v in resps.items():\n",
    "    print(\"-----{}-----\".format(k))\n",
    "    print(v.split(\"\\n\")[1])"
   ]
  },
  {
   "cell_type": "markdown",
   "metadata": {},
   "source": [
    "Some fields are missing because we are only looking at **query**, but not **response**."
   ]
  },
  {
   "cell_type": "markdown",
   "metadata": {},
   "source": [
    "# Tasks\n",
    "\n",
    "## Basic\n",
    "\n",
    " * See the [bash examples](https://github.com/ccdcoe/CDMCS/tree/master/Moloch/queries#bash-examples)\n",
    "     * Implement user-agent and ja3 example as python scripts\n",
    "     \n",
    "## Advanced\n",
    " \n",
    " * See the [bash examples](https://github.com/ccdcoe/CDMCS/tree/master/Moloch/queries#bash-examples) and [suricata eve json parsing notebook](https://github.com/ccdcoe/CDMCS/blob/master/Suricata/indexing/001-load-eve.ipynb). \n",
    "     * Your singlehost should have suricata alert file in **/var/log/suricata/eve.json**.\n",
    "     * Copy that file to api box and run moloch session queries for all community ID values"
   ]
  },
  {
   "cell_type": "code",
   "execution_count": null,
   "metadata": {},
   "outputs": [],
   "source": []
  }
 ],
 "metadata": {
  "kernelspec": {
   "display_name": "Python 3",
   "language": "python",
   "name": "python3"
  },
  "language_info": {
   "codemirror_mode": {
    "name": "ipython",
    "version": 3
   },
   "file_extension": ".py",
   "mimetype": "text/x-python",
   "name": "python",
   "nbconvert_exporter": "python",
   "pygments_lexer": "ipython3",
   "version": "3.6.7"
  }
 },
 "nbformat": 4,
 "nbformat_minor": 2
}
