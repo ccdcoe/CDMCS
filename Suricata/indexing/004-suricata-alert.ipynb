{
 "cells": [
  {
   "cell_type": "markdown",
   "metadata": {},
   "source": [
    "# Meerkat and alerta"
   ]
  },
  {
   "cell_type": "code",
   "execution_count": 23,
   "metadata": {},
   "outputs": [],
   "source": [
    "import redis"
   ]
  },
  {
   "cell_type": "code",
   "execution_count": 24,
   "metadata": {},
   "outputs": [],
   "source": [
    "r = redis.Redis(host=\"192.168.10.15\", port=6379)"
   ]
  },
  {
   "cell_type": "code",
   "execution_count": 25,
   "metadata": {},
   "outputs": [],
   "source": [
    "eve = r.lrange(\"suricata\", 0, -1)"
   ]
  },
  {
   "cell_type": "code",
   "execution_count": 26,
   "metadata": {},
   "outputs": [
    {
     "name": "stdout",
     "output_type": "stream",
     "text": [
      "1840\n"
     ]
    }
   ],
   "source": [
    "print(len(eve))"
   ]
  },
  {
   "cell_type": "code",
   "execution_count": 27,
   "metadata": {},
   "outputs": [],
   "source": [
    "import json\n",
    "eve = [json.loads(e.decode()) for e in r.lrange(\"suricata\", 0, -1) if e]\n",
    "eve = [e for e in eve if e[\"event_type\"] == \"alert\"]"
   ]
  },
  {
   "cell_type": "code",
   "execution_count": 28,
   "metadata": {},
   "outputs": [
    {
     "name": "stdout",
     "output_type": "stream",
     "text": [
      "[{'timestamp': '2019-02-06T16:49:24.984983+0000', 'flow_id': 1089646357698266, 'in_iface': 'enp0s3', 'event_type': 'alert', 'src_ip': '217.160.0.187', 'src_port': 80, 'dest_ip': '10.0.2.15', 'dest_port': 39324, 'proto': 'TCP', 'alert': {'action': 'allowed', 'gid': 1, 'signature_id': 2100498, 'rev': 7, 'signature': 'GPL ATTACK_RESPONSE id check returned root', 'category': 'Potentially Bad Traffic', 'severity': 2, 'metadata': {'updated_at': ['2010_09_23'], 'created_at': ['2010_09_23']}}, 'http': {'hostname': 'testmyids.com', 'url': '/', 'http_user_agent': 'curl/7.58.0', 'http_content_type': 'text/html', 'http_method': 'GET', 'protocol': 'HTTP/1.1', 'status': 200, 'length': 39}, 'app_proto': 'http', 'flow': {'pkts_toserver': 5, 'pkts_toclient': 4, 'bytes_toserver': 367, 'bytes_toclient': 532, 'start': '2019-02-06T16:49:24.906970+0000'}, 'host': 'CDMCS-rules'}, {'timestamp': '2019-02-06T16:49:24.984589+0000', 'flow_id': 1089646357698266, 'in_iface': 'enp0s3', 'event_type': 'alert', 'src_ip': '10.0.2.15', 'src_port': 39324, 'dest_ip': '217.160.0.187', 'dest_port': 80, 'proto': 'TCP', 'tx_id': 0, 'alert': {'action': 'allowed', 'gid': 1, 'signature_id': 2013028, 'rev': 4, 'signature': 'ET POLICY curl User-Agent Outbound', 'category': 'Attempted Information Leak', 'severity': 2, 'metadata': {'updated_at': ['2011_06_14'], 'created_at': ['2011_06_14']}}, 'http': {'hostname': 'testmyids.com', 'url': '/', 'http_user_agent': 'curl/7.58.0', 'http_content_type': 'text/html', 'http_method': 'GET', 'protocol': 'HTTP/1.1', 'status': 200, 'length': 39}, 'app_proto': 'http', 'flow': {'pkts_toserver': 4, 'pkts_toclient': 3, 'bytes_toserver': 313, 'bytes_toclient': 472, 'start': '2019-02-06T16:49:24.906970+0000'}, 'host': 'CDMCS-rules'}]\n"
     ]
    }
   ],
   "source": [
    "print(eve)"
   ]
  },
  {
   "cell_type": "code",
   "execution_count": 29,
   "metadata": {},
   "outputs": [
    {
     "name": "stdout",
     "output_type": "stream",
     "text": [
      "{'alert': {'attributes': {'ip': '192.168.10.15'}, 'correlate': [], 'createTime': '2019-02-06T16:53:04.636Z', 'customer': None, 'duplicateCount': 2, 'environment': 'Production', 'event': 'GPL ATTACK_RESPONSE id check returned root', 'group': 'Misc', 'history': [{'event': 'GPL ATTACK_RESPONSE id check returned root', 'href': 'http://192.168.10.15:8080/alert/64d222e1-4d9f-44d9-8593-638a5c43cb2d', 'id': '64d222e1-4d9f-44d9-8593-638a5c43cb2d', 'severity': 'wat', 'status': 'open', 'text': 'new alert', 'type': 'new', 'updateTime': '2019-02-06T16:53:04.636Z', 'value': '2'}, {'event': 'GPL ATTACK_RESPONSE id check returned root', 'href': 'http://192.168.10.15:8080/alert/79c87728-ae16-4cfa-88b6-e4522f0c91c4', 'id': '79c87728-ae16-4cfa-88b6-e4522f0c91c4', 'severity': 'wat', 'status': 'open', 'text': 'duplicate alert (with status change)', 'type': 'status', 'updateTime': '2019-02-06T16:56:53.819Z', 'value': '2'}], 'href': 'http://192.168.10.15:8080/alert/64d222e1-4d9f-44d9-8593-638a5c43cb2d', 'id': '64d222e1-4d9f-44d9-8593-638a5c43cb2d', 'lastReceiveId': '8a3eb9db-dabf-4129-ab31-f5f05fa3c7e5', 'lastReceiveTime': '2019-02-06T16:56:59.285Z', 'origin': 'alertad/clusterbox', 'previousSeverity': 'interesting', 'rawData': None, 'receiveTime': '2019-02-06T16:53:04.646Z', 'repeat': True, 'resource': '10.0.2.15', 'service': ['10.0.2.15'], 'severity': 'wat', 'status': 'open', 'tags': [], 'text': 'ALERT: GPL ATTACK_RESPONSE id check returned root', 'timeout': 60, 'trendIndication': 'moreSevere', 'type': 'exceptionAlert', 'value': '2'}, 'id': '64d222e1-4d9f-44d9-8593-638a5c43cb2d', 'status': 'ok'}\n",
      "{'alert': {'attributes': {'ip': '192.168.10.15'}, 'correlate': [], 'createTime': '2019-02-06T16:53:04.663Z', 'customer': None, 'duplicateCount': 2, 'environment': 'Production', 'event': 'ET POLICY curl User-Agent Outbound', 'group': 'Misc', 'history': [{'event': 'ET POLICY curl User-Agent Outbound', 'href': 'http://192.168.10.15:8080/alert/70038d08-75d8-4e60-a9bb-294f4f5cdc4d', 'id': '70038d08-75d8-4e60-a9bb-294f4f5cdc4d', 'severity': 'wat', 'status': 'open', 'text': 'new alert', 'type': 'new', 'updateTime': '2019-02-06T16:53:04.663Z', 'value': '2'}, {'event': 'ET POLICY curl User-Agent Outbound', 'href': 'http://192.168.10.15:8080/alert/3fe1e90c-6af8-4fa9-9ee8-6ed604823a3d', 'id': '3fe1e90c-6af8-4fa9-9ee8-6ed604823a3d', 'severity': 'wat', 'status': 'open', 'text': 'duplicate alert (with status change)', 'type': 'status', 'updateTime': '2019-02-06T16:56:53.845Z', 'value': '2'}], 'href': 'http://192.168.10.15:8080/alert/70038d08-75d8-4e60-a9bb-294f4f5cdc4d', 'id': '70038d08-75d8-4e60-a9bb-294f4f5cdc4d', 'lastReceiveId': 'b729ee24-c590-49ce-8f1c-906d5882b20c', 'lastReceiveTime': '2019-02-06T16:56:59.304Z', 'origin': 'alertad/clusterbox', 'previousSeverity': 'interesting', 'rawData': None, 'receiveTime': '2019-02-06T16:53:04.669Z', 'repeat': True, 'resource': '217.160.0.187', 'service': ['217.160.0.187'], 'severity': 'wat', 'status': 'open', 'tags': [], 'text': 'ALERT: ET POLICY curl User-Agent Outbound', 'timeout': 60, 'trendIndication': 'moreSevere', 'type': 'exceptionAlert', 'value': '2'}, 'id': '70038d08-75d8-4e60-a9bb-294f4f5cdc4d', 'status': 'ok'}\n"
     ]
    }
   ],
   "source": [
    "import json\n",
    "import requests\n",
    "\n",
    "assets = { \n",
    "    \"192.168.10.11\": \"singlehost\",\n",
    "    \"192.168.10.15\": \"clusterbox\"\n",
    "}\n",
    "\n",
    "for data in eve:\n",
    "    \n",
    "    if data[\"src_ip\"] in assets:\n",
    "        resource = data[\"src_ip\"]\n",
    "    elif data[\"dest_ip\"] in assets:\n",
    "        resource = data[\"dest_ip\"]\n",
    "    else:\n",
    "        resource = data[\"dest_ip\"]\n",
    "\n",
    "    headers = { \"Content-Type\": \"application/json\" }\n",
    "    alert = {\n",
    "            \"environment\": \"Production\",\n",
    "            \"event\": data[\"alert\"][\"signature\"],\n",
    "            \"resource\": resource,\n",
    "            \"text\": \"ALERT: {}\".format(data[\"alert\"][\"signature\"]),\n",
    "            \"service\": [resource],\n",
    "            \"severity\": \"wat\",\n",
    "            \"value\": data[\"alert\"][\"severity\"],\n",
    "            \"timeout\": 60,\n",
    "            }\n",
    "    \n",
    "    url = \"http://192.168.10.15:8080/alert\"\n",
    "    resp = requests.post(url, data=json.dumps(alert), headers=headers)\n",
    "    \n",
    "    print(resp.json())"
   ]
  },
  {
   "cell_type": "code",
   "execution_count": null,
   "metadata": {},
   "outputs": [],
   "source": []
  }
 ],
 "metadata": {
  "kernelspec": {
   "display_name": "Python 3",
   "language": "python",
   "name": "python3"
  },
  "language_info": {
   "codemirror_mode": {
    "name": "ipython",
    "version": 3
   },
   "file_extension": ".py",
   "mimetype": "text/x-python",
   "name": "python",
   "nbconvert_exporter": "python",
   "pygments_lexer": "ipython3",
   "version": "3.8.1"
  }
 },
 "nbformat": 4,
 "nbformat_minor": 4
}
