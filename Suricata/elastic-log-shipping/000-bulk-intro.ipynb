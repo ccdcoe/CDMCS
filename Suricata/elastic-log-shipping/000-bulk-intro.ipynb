{
 "cells": [
  {
   "cell_type": "markdown",
   "metadata": {},
   "source": [
    "Install requried modules with `pip`.\n",
    "\n",
    "```\n",
    "python3 -m pip install --user --upgrade elasticsearch\n",
    "```"
   ]
  },
  {
   "cell_type": "code",
   "execution_count": 1,
   "metadata": {},
   "outputs": [],
   "source": [
    "from elasticsearch import Elasticsearch"
   ]
  },
  {
   "cell_type": "markdown",
   "metadata": {},
   "source": [
    "Connect to local instance"
   ]
  },
  {
   "cell_type": "code",
   "execution_count": 2,
   "metadata": {},
   "outputs": [],
   "source": [
    "conn = Elasticsearch(hosts=[\"localhost:9200\"])"
   ]
  },
  {
   "cell_type": "markdown",
   "metadata": {},
   "source": [
    "Object creation does not verify that server is up. Validate it!"
   ]
  },
  {
   "cell_type": "code",
   "execution_count": 3,
   "metadata": {},
   "outputs": [
    {
     "data": {
      "text/plain": [
       "True"
      ]
     },
     "execution_count": 3,
     "metadata": {},
     "output_type": "execute_result"
    }
   ],
   "source": [
    "conn.ping()"
   ]
  },
  {
   "cell_type": "markdown",
   "metadata": {},
   "source": [
    "Elasticsearch uses HTTP and transport protocol, so indexing individual documents is fairly expensive. Especially when talking about IDS logs. Proper way is to use bulk API.\n",
    "\n",
    "See:\n",
    "\n",
    "https://www.elastic.co/guide/en/elasticsearch/reference/current/docs-bulk.html\n",
    "\n",
    "Bulk format requires metadata line before each document to indicate what action should be taken, which index used, etc. **Index name must be lowercase**."
   ]
  },
  {
   "cell_type": "code",
   "execution_count": 4,
   "metadata": {},
   "outputs": [],
   "source": [
    "bulk = []\n",
    "i = 0\n",
    "for i in range(100):\n",
    "    meta = {\n",
    "        \"index\": {\n",
    "            \"_index\": \"mynewindex\",\n",
    "            \"_id\": i\n",
    "        }\n",
    "    }\n",
    "    doc = {\n",
    "        \"message\": \"this is message {}\".format(i),\n",
    "        \"count\": i\n",
    "    }\n",
    "    \n",
    "    bulk.append(meta)\n",
    "    bulk.append(doc)"
   ]
  },
  {
   "cell_type": "code",
   "execution_count": 5,
   "metadata": {},
   "outputs": [
    {
     "name": "stdout",
     "output_type": "stream",
     "text": [
      "200\n"
     ]
    }
   ],
   "source": [
    "print(len(bulk))"
   ]
  },
  {
   "cell_type": "markdown",
   "metadata": {},
   "source": [
    "Then ship it!"
   ]
  },
  {
   "cell_type": "code",
   "execution_count": 6,
   "metadata": {},
   "outputs": [
    {
     "name": "stdout",
     "output_type": "stream",
     "text": [
      "dict_keys(['took', 'errors', 'items'])\n"
     ]
    }
   ],
   "source": [
    "resp = conn.bulk(bulk)\n",
    "print(resp.keys())"
   ]
  },
  {
   "cell_type": "markdown",
   "metadata": {},
   "source": [
    "And verify on CLI.\n",
    "\n",
    "```\n",
    "curl localhost:9200/myNewIndex/_search\n",
    "```"
   ]
  }
 ],
 "metadata": {
  "kernelspec": {
   "display_name": "Python 3",
   "language": "python",
   "name": "python3"
  },
  "language_info": {
   "codemirror_mode": {
    "name": "ipython",
    "version": 3
   },
   "file_extension": ".py",
   "mimetype": "text/x-python",
   "name": "python",
   "nbconvert_exporter": "python",
   "pygments_lexer": "ipython3",
   "version": "3.9.1"
  }
 },
 "nbformat": 4,
 "nbformat_minor": 4
}
