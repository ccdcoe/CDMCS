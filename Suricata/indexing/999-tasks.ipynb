{
 "cells": [
  {
   "cell_type": "markdown",
   "metadata": {},
   "source": [
    "## Elasticsearch\n",
    "\n",
    "* Set up an elasticsearch cluster per group;\n",
    " * Each student should run Suricata and at least one Elastic node;\n",
    " * Elastic node roles are up to you, but please distribute - in other words, someone is proxy, someone is master, someone is worker;\n",
    " * Don't install all roles on all nodes!"
   ]
  },
  {
   "cell_type": "markdown",
   "metadata": {},
   "source": [
    "## Redis\n",
    "\n",
    " * Set up redis and configure Suricata to forward all events there;\n",
    "   * Single redis instance per group is enough, but each student must have their own suricata sender;\n",
    "   * You must be able to identify the sending student;\n",
    " * Write a custom python consumer that takes messages from redis and decodes eve JSON;\n",
    "   * Subscribe from channel, as opposed to iterating or popping lists;\n"
   ]
  },
  {
   "cell_type": "markdown",
   "metadata": {},
   "source": [
    "## Indexing eve.json\n",
    "\n",
    " * Use elasticsearch `_bulk` API to read entire `eve.json` to index `suricata`\n",
    " * Loading entire file into memory and sending one huge bulk may be fine in class, but is a very bad idea in production;\n",
    "   * Choose an arbitrary bulk size N and flush logs to elastic when buffer is full;\n",
    "   * Don't forget the tail;\n",
    " * Enhance the scripts written in prior task and *redis* section to function as elasticsearch shippers;\n",
    "   * Each student should write their own script and should send to their personal index in the group elasticsearch;\n",
    "   * You can also set up a common index where you will send messages from all students, it's up to you if you want to write a single consumer for that or if each student sends on their own;\n",
    " * Everyone usually uses logstash to do this stuff, some tools assume this and look for logstash-specific fields when running queries;\n",
    "   * Fix one future issue by adding a new field `@timestamp` to each document. It should correspond to `timestamp` field from EVE log;\n",
    " \n",
    "### Advanced\n",
    "\n",
    " * Index EVE logs dynamically based on `event_type` field;\n",
    "   * `alert` should be sent to index `suricata-alert` while `stats` should be sent to `suricata-stats`, etc;\n",
    " * Using information from EVE `timestamp` field, set up hourly index pattern;\n",
    "   * Final index pattern should look like `suricata-<event_type>-<YEAR>.<MONTH>.<DAY>.<HOUR>`\n",
    "   * For example, `suricata-alert-2019.01.22.16`\n",
    "   * Verify by writing a wildcard query for pattern `suricata-dns-2019.*`"
   ]
  },
  {
   "cell_type": "markdown",
   "metadata": {},
   "source": [
    "## Frontend\n",
    "* Set up evebox;\n",
    "* Set up scirius;"
   ]
  },
  {
   "cell_type": "code",
   "execution_count": null,
   "metadata": {},
   "outputs": [],
   "source": []
  }
 ],
 "metadata": {
  "kernelspec": {
   "display_name": "Python 3",
   "language": "python",
   "name": "python3"
  },
  "language_info": {
   "codemirror_mode": {
    "name": "ipython",
    "version": 3
   },
   "file_extension": ".py",
   "mimetype": "text/x-python",
   "name": "python",
   "nbconvert_exporter": "python",
   "pygments_lexer": "ipython3",
   "version": "3.8.1"
  }
 },
 "nbformat": 4,
 "nbformat_minor": 4
}
