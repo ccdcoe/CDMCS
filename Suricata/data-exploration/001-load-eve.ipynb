{
 "cells": [
  {
   "cell_type": "markdown",
   "metadata": {},
   "source": [
    "# Reading eve.json with python"
   ]
  },
  {
   "cell_type": "markdown",
   "metadata": {},
   "source": [
    "Let's (interactively) explore Suricata eve.json. Modern programming languages provide a rather impressive toolbox for exploring data, without needing any infrastructure investments. Spinning up an Elasticsearch instance can be an overkill when you are analyzing a simple log file. Furthermore, writing custom code can provide more flexibility when exploring the data."
   ]
  },
  {
   "cell_type": "markdown",
   "metadata": {},
   "source": [
    "Python has a \"batteries included\" approach, which means that modules mostly abstract the implementation details. In other words, you do not need to be a professional programmer. Simply unerstanding basic programming concepts and python modules is enough to effenctively analyze data."
   ]
  },
  {
   "cell_type": "markdown",
   "metadata": {},
   "source": [
    "## Reading a simple log file line by line"
   ]
  },
  {
   "cell_type": "markdown",
   "metadata": {},
   "source": [
    "This vagrant folder has an example log file generated from singlehost instance. However, the path is different if you are runnig the notebook directly on host. It does not matter which way you do it. But we can define it only once and then flip the value based on use-case. If you change `VAGRANT` global variable to `true`, then the proceeding code will attempt to load example log file from vagrant mounted volume."
   ]
  },
  {
   "cell_type": "code",
   "execution_count": 59,
   "metadata": {},
   "outputs": [],
   "source": [
    "VAGRANT = False\n",
    "EVE = \"/vagrant/eve.json\" if VAGRANT else \"./eve.json\""
   ]
  },
  {
   "cell_type": "markdown",
   "metadata": {},
   "source": [
    "Reading a file in python is simple. `with` keyword opens a file handle and ensures that it is properly closed afterwards. `rb` sets the file handle mode to *read* and *binary* (better for interoperativity between operating systems, as linux and windows file handles are different). Finally, `eve` variable exposes an python object that lets us use python methods. Following example opens a suricata eve.json file handle and reads a single line from the beginning."
   ]
  },
  {
   "cell_type": "code",
   "execution_count": 60,
   "metadata": {},
   "outputs": [
    {
     "name": "stdout",
     "output_type": "stream",
     "text": [
      "b'{\"timestamp\":\"2020-02-04T11:30:04.384291+0000\",\"flow_id\":1699148482796835,\"in_iface\":\"enp0s3\",\"event_type\":\"dns\",\"src_ip\":\"10.0.2.15\",\"src_port\":42115,\"dest_ip\":\"10.0.2.3\",\"dest_port\":53,\"proto\":\"UDP\",\"dns\":{\"type\":\"query\",\"id\":59061,\"rrname\":\"raw.githubusercontent.com\",\"rrtype\":\"A\",\"tx_id\":0},\"host\":\"CDMCS\"}\\n'\n"
     ]
    }
   ],
   "source": [
    "with open(EVE, 'rb') as eve:\n",
    "    data = eve.readline()\n",
    "print(data)"
   ]
  },
  {
   "cell_type": "markdown",
   "metadata": {},
   "source": [
    "Note that the line is currently a raw byte array. We need to decode it and load as JSON document to be able to access structured data inside it."
   ]
  },
  {
   "cell_type": "markdown",
   "metadata": {},
   "source": [
    "### Decoding a json object"
   ]
  },
  {
   "cell_type": "code",
   "execution_count": 61,
   "metadata": {},
   "outputs": [],
   "source": [
    "import json\n",
    "structured_data = json.loads(data)"
   ]
  },
  {
   "cell_type": "code",
   "execution_count": 62,
   "metadata": {},
   "outputs": [
    {
     "data": {
      "text/plain": [
       "{'timestamp': '2020-02-04T11:30:04.384291+0000',\n",
       " 'flow_id': 1699148482796835,\n",
       " 'in_iface': 'enp0s3',\n",
       " 'event_type': 'dns',\n",
       " 'src_ip': '10.0.2.15',\n",
       " 'src_port': 42115,\n",
       " 'dest_ip': '10.0.2.3',\n",
       " 'dest_port': 53,\n",
       " 'proto': 'UDP',\n",
       " 'dns': {'type': 'query',\n",
       "  'id': 59061,\n",
       "  'rrname': 'raw.githubusercontent.com',\n",
       "  'rrtype': 'A',\n",
       "  'tx_id': 0},\n",
       " 'host': 'CDMCS'}"
      ]
     },
     "execution_count": 62,
     "metadata": {},
     "output_type": "execute_result"
    }
   ],
   "source": [
    "structured_data"
   ]
  },
  {
   "cell_type": "code",
   "execution_count": 63,
   "metadata": {},
   "outputs": [
    {
     "name": "stdout",
     "output_type": "stream",
     "text": [
      "event type is: dns\n"
     ]
    }
   ],
   "source": [
    "event_type = structured_data['event_type']\n",
    "print(\"event type is:\", event_type)"
   ]
  },
  {
   "cell_type": "markdown",
   "metadata": {},
   "source": [
    "### Handling broken documents"
   ]
  },
  {
   "cell_type": "markdown",
   "metadata": {},
   "source": [
    "It is rather common to encounter broken documents while parsing log files. Normally, a python script might throw an `Exception` which would terminate the script. Not ideal when you have to restart your script after a crash. Thus, wrapping these sections in `try-except` block may be a good idea."
   ]
  },
  {
   "cell_type": "code",
   "execution_count": 64,
   "metadata": {},
   "outputs": [],
   "source": [
    "try:\n",
    "    structured_data = json.loads(data)\n",
    "except json.JSONDecodeError as e:\n",
    "    # logic for handling the error\n",
    "    pass"
   ]
  },
  {
   "cell_type": "markdown",
   "metadata": {},
   "source": [
    "### Writing a generator function"
   ]
  },
  {
   "cell_type": "markdown",
   "metadata": {},
   "source": [
    "Reading log files line by line may be a good idea with larger datasets. We can achieve that by combining the principles from prior cells. However, we still have a problem - code that actually uses decoded data would have to be placed inside the function. We cannot use `return` keyword, as it would simply exit the function after reading first line. And we don't want to read every line into memory, as the file could be quite large. However we still want a self-contained function that is only meant to give us eve objects line-by-line, whereas actual processing would take place afterwards."
   ]
  },
  {
   "cell_type": "markdown",
   "metadata": {},
   "source": [
    "Solution is to create a `generator` object with `yield` instead of `return`. Simply put, unline `iterator` a `generator` does not attempt to access the next line until a caller tries to pull it. Note that opened file handle is already an `iterator`, allowing us to loop over the lines. However, each loop iteration blocks until caller consumes the message."
   ]
  },
  {
   "cell_type": "code",
   "execution_count": 66,
   "metadata": {},
   "outputs": [],
   "source": [
    "def readEveLineByLine(path=EVE):\n",
    "    with open(path, \"rb\") as eve:\n",
    "        for line in eve: \n",
    "            try:\n",
    "                # Here we should have code that processes decoded data if we did not use a generator\n",
    "                yield json.loads(line)\n",
    "            except json.JSONDecodeError as e:\n",
    "                # simply skip broken messages\n",
    "                next"
   ]
  },
  {
   "cell_type": "markdown",
   "metadata": {},
   "source": [
    "This function can now be used as iterator. However, we no longer need to worry about opening a file, reading it line by line, decoding json (and handline exceptions), etc. We can simply work with decoded python dictionaries."
   ]
  },
  {
   "cell_type": "markdown",
   "metadata": {},
   "source": [
    "This `iterator` counts the total number of events in log file and the number of alerts (which required json decoding). However, it wraps around our `generator`, so there's no need to worry about input logic."
   ]
  },
  {
   "cell_type": "code",
   "execution_count": 71,
   "metadata": {},
   "outputs": [
    {
     "name": "stdout",
     "output_type": "stream",
     "text": [
      "33 / 314\n"
     ]
    }
   ],
   "source": [
    "count = 0\n",
    "alerts = 0\n",
    "for line in readEveLineByLine():\n",
    "    count += 1\n",
    "    if line[\"event_type\"] == \"alert\": \n",
    "        alerts += 1\n",
    "print(alerts, \"/\", count)"
   ]
  },
  {
   "cell_type": "markdown",
   "metadata": {},
   "source": [
    "## Reading the log file in memory"
   ]
  },
  {
   "cell_type": "markdown",
   "metadata": {},
   "source": [
    "Reading files line by line vs loading everything into memory is a tradeoff between memory usage and IO speed. Loading everything to memory may be a good idea if dataset is small or you have large amount of memory at hand. After all, chances are you would be using a database if data volume was large."
   ]
  },
  {
   "cell_type": "markdown",
   "metadata": {},
   "source": [
    "Python file reader already provides `readlines()` method for doing that."
   ]
  },
  {
   "cell_type": "code",
   "execution_count": 86,
   "metadata": {},
   "outputs": [
    {
     "name": "stdout",
     "output_type": "stream",
     "text": [
      "314\n"
     ]
    }
   ],
   "source": [
    "with open(EVE, 'rb') as eve:\n",
    "    data = eve.readlines()\n",
    "print(len(data))"
   ]
  },
  {
   "cell_type": "markdown",
   "metadata": {},
   "source": [
    "### List comprehensions"
   ]
  },
  {
   "cell_type": "markdown",
   "metadata": {},
   "source": [
    "Suppose we wanted to decode all messages loaded into memory. To do that we would need to:\n",
    "1. Create a new empty list;\n",
    "2. Iterate over each data element;\n",
    "3. For each element:\n",
    "    1. decode element as JSON object;\n",
    "    2. append decoded element to the new list;"
   ]
  },
  {
   "cell_type": "code",
   "execution_count": 87,
   "metadata": {},
   "outputs": [
    {
     "name": "stdout",
     "output_type": "stream",
     "text": [
      "314\n"
     ]
    }
   ],
   "source": [
    "newlist = []\n",
    "for item in data:\n",
    "    decoded = json.loads(item)\n",
    "    newlist.append(decoded)\n",
    "print(len(newlist))"
   ]
  },
  {
   "cell_type": "markdown",
   "metadata": {},
   "source": [
    "Python has a built-in concept for handling this common pattern, called **list comprehension**. Simply put, it allows us to implement this logic with a single line of code."
   ]
  },
  {
   "cell_type": "code",
   "execution_count": 88,
   "metadata": {},
   "outputs": [
    {
     "name": "stdout",
     "output_type": "stream",
     "text": [
      "314\n"
     ]
    }
   ],
   "source": [
    "newlist = [ json.loads(item) for item in data ]\n",
    "print(len(newlist))"
   ]
  },
  {
   "cell_type": "markdown",
   "metadata": {},
   "source": [
    "This allows us to extract values from each object while keeping overall number of code lines small. Suppose we wanted to extract `alert` data if it exists in a document."
   ]
  },
  {
   "cell_type": "code",
   "execution_count": 90,
   "metadata": {},
   "outputs": [
    {
     "name": "stdout",
     "output_type": "stream",
     "text": [
      "33\n"
     ]
    }
   ],
   "source": [
    "newlist = [ item[\"alert\"] for item in newlist if \"alert\" in item ]\n",
    "print(len(newlist))"
   ]
  },
  {
   "cell_type": "markdown",
   "metadata": {},
   "source": [
    "Note that we need to check for an existence of dictionary keys. Otherwise python would throw an exception."
   ]
  },
  {
   "cell_type": "code",
   "execution_count": 92,
   "metadata": {},
   "outputs": [
    {
     "name": "stdout",
     "output_type": "stream",
     "text": [
      "{'action': 'allowed', 'gid': 1, 'signature_id': 2210056, 'rev': 1, 'signature': 'SURICATA STREAM bad window update', 'category': 'Generic Protocol Command Decode', 'severity': 3}\n"
     ]
    }
   ],
   "source": [
    "print(newlist[0])"
   ]
  },
  {
   "cell_type": "markdown",
   "metadata": {},
   "source": [
    "### Putting it together\n",
    "\n",
    "This function combines core concepts covered so far. Note that this time we use `return` instead of `yield` as this function is not meant to be iterated over."
   ]
  },
  {
   "cell_type": "code",
   "execution_count": 93,
   "metadata": {},
   "outputs": [],
   "source": [
    "def readEveAllInMem(path=EVE):\n",
    "    with open(path, \"rb\") as eve:\n",
    "        data = eve.readlines()\n",
    "    data = [json.loads(d) for d in data]\n",
    "    return data"
   ]
  },
  {
   "cell_type": "code",
   "execution_count": 94,
   "metadata": {},
   "outputs": [
    {
     "name": "stdout",
     "output_type": "stream",
     "text": [
      "{'timestamp': '2020-02-04T11:30:04.384291+0000', 'flow_id': 1699148482796835, 'in_iface': 'enp0s3', 'event_type': 'dns', 'src_ip': '10.0.2.15', 'src_port': 42115, 'dest_ip': '10.0.2.3', 'dest_port': 53, 'proto': 'UDP', 'dns': {'type': 'query', 'id': 59061, 'rrname': 'raw.githubusercontent.com', 'rrtype': 'A', 'tx_id': 0}, 'host': 'CDMCS'}\n"
     ]
    }
   ],
   "source": [
    "data = readEveAllInMem()\n",
    "print(data[0])"
   ]
  },
  {
   "cell_type": "markdown",
   "metadata": {},
   "source": [
    "## String formatting\n",
    "\n",
    "One of the simplest things we could do is to reformat each message according to some pattern. Suppose we wanted to turn each eve entry into less informative, but more human-readable fast record."
   ]
  },
  {
   "cell_type": "markdown",
   "metadata": {},
   "source": [
    "You may be familiar with basic string concatenation."
   ]
  },
  {
   "cell_type": "code",
   "execution_count": 121,
   "metadata": {},
   "outputs": [
    {
     "data": {
      "text/plain": [
       "'first:second'"
      ]
     },
     "execution_count": 121,
     "metadata": {},
     "output_type": "execute_result"
    }
   ],
   "source": [
    "\"first\" + \":\" + \"second\""
   ]
  },
  {
   "cell_type": "markdown",
   "metadata": {},
   "source": [
    "It's simple, but can become quite messy with complex cases and long variable names. Furthermore, changing the message format would be difficult afterwards. Many languages, like python allow you to define a template string with placeholders to make this syntax a bit more clear. In the following example `%s` is dynamically replaced by the argument `second`."
   ]
  },
  {
   "cell_type": "code",
   "execution_count": 122,
   "metadata": {},
   "outputs": [
    {
     "data": {
      "text/plain": [
       "'first:second'"
      ]
     },
     "execution_count": 122,
     "metadata": {},
     "output_type": "execute_result"
    }
   ],
   "source": [
    "var = \"second\"\n",
    "'first:%s' % var"
   ]
  },
  {
   "cell_type": "markdown",
   "metadata": {},
   "source": [
    "Python has a newer syntax for that which is a usable method for every string object."
   ]
  },
  {
   "cell_type": "code",
   "execution_count": 123,
   "metadata": {},
   "outputs": [
    {
     "data": {
      "text/plain": [
       "'first:second'"
      ]
     },
     "execution_count": 123,
     "metadata": {},
     "output_type": "execute_result"
    }
   ],
   "source": [
    "var = \"second\"\n",
    "\"first:{}\".format(var)"
   ]
  },
  {
   "cell_type": "markdown",
   "metadata": {},
   "source": [
    "### Formatting eve messages"
   ]
  },
  {
   "cell_type": "code",
   "execution_count": 124,
   "metadata": {},
   "outputs": [
    {
     "data": {
      "text/plain": [
       "['2020-02-04T11:31:30.502586+0000 10.0.2.15 50790 -> 104.18.123.25 443 SURICATA STREAM bad window update',\n",
       " '2020-02-04T11:31:30.531078+0000 10.0.2.15 50790 -> 104.18.123.25 443 SURICATA STREAM bad window update',\n",
       " '2020-02-04T11:32:08.083450+0000 10.0.2.15 49516 -> 10.0.2.3 53 CDMCS: DNS request for Facebook',\n",
       " '2020-02-04T11:32:08.083209+0000 10.0.2.15 44169 -> 10.0.2.3 53 CDMCS: DNS request for Facebook',\n",
       " '2020-02-04T11:32:08.128233+0000 10.0.2.3 53 -> 10.0.2.15 44169 CDMCS: DNS request for Facebook',\n",
       " '2020-02-04T11:32:08.159384+0000 10.0.2.3 53 -> 10.0.2.15 49516 CDMCS: DNS request for Facebook',\n",
       " '2020-02-04T11:32:08.428289+0000 10.0.2.15 37934 -> 31.3.245.133 80 CDMCS: Listed UA seen',\n",
       " '2020-02-04T11:32:08.428289+0000 10.0.2.15 37934 -> 31.3.245.133 80 ET POLICY curl User-Agent Outbound',\n",
       " '2020-02-04T11:32:08.428547+0000 31.3.245.133 80 -> 10.0.2.15 37934 GPL ATTACK_RESPONSE id check returned root',\n",
       " '2020-02-04T11:32:08.415724+0000 104.154.89.105 443 -> 10.0.2.15 58068 CDMCS TLS Self Signed Certificate',\n",
       " '2020-02-04T11:32:49.989534+0000 104.154.89.105 443 -> 10.0.2.15 58084 CDMCS TLS Self Signed Certificate',\n",
       " '2020-02-04T11:33:08.544530+0000 10.0.2.15 37976 -> 31.3.245.133 80 CDMCS: Listed UA seen',\n",
       " '2020-02-04T11:33:08.544530+0000 10.0.2.15 37976 -> 31.3.245.133 80 ET POLICY curl User-Agent Outbound',\n",
       " '2020-02-04T11:33:08.544970+0000 31.3.245.133 80 -> 10.0.2.15 37976 GPL ATTACK_RESPONSE id check returned root',\n",
       " '2020-02-04T11:33:34.660921+0000 10.0.2.15 37986 -> 31.3.245.133 80 CDMCS: Listed UA seen',\n",
       " '2020-02-04T11:33:34.660921+0000 10.0.2.15 37986 -> 31.3.245.133 80 ET POLICY curl User-Agent Outbound',\n",
       " '2020-02-04T11:33:34.661854+0000 31.3.245.133 80 -> 10.0.2.15 37986 GPL ATTACK_RESPONSE id check returned root',\n",
       " '2020-02-04T11:33:41.578079+0000 104.154.89.105 443 -> 10.0.2.15 58126 CDMCS TLS Self Signed Certificate',\n",
       " '2020-02-04T11:34:05.166310+0000 104.154.89.105 443 -> 10.0.2.15 58134 CDMCS TLS Self Signed Certificate',\n",
       " '2020-02-04T11:34:07.053629+0000 10.0.2.15 39001 -> 10.0.2.3 53 CDMCS: DNS request for Facebook',\n",
       " '2020-02-04T11:34:07.053920+0000 10.0.2.15 41450 -> 10.0.2.3 53 CDMCS: DNS request for Facebook',\n",
       " '2020-02-04T11:34:07.067203+0000 10.0.2.3 53 -> 10.0.2.15 39001 CDMCS: DNS request for Facebook',\n",
       " '2020-02-04T11:34:07.094280+0000 10.0.2.3 53 -> 10.0.2.15 41450 CDMCS: DNS request for Facebook',\n",
       " '2020-02-04T11:34:25.778878+0000 10.0.2.15 38006 -> 31.3.245.133 80 CDMCS: Listed UA seen',\n",
       " '2020-02-04T11:34:25.778878+0000 10.0.2.15 38006 -> 31.3.245.133 80 ET POLICY curl User-Agent Outbound']"
      ]
     },
     "execution_count": 124,
     "metadata": {},
     "output_type": "execute_result"
    }
   ],
   "source": [
    "alerts = []\n",
    "i = 0\n",
    "for line in readEveLineByLine():\n",
    "    if \"event_type\" in line and line[\"event_type\"] == \"alert\":\n",
    "        flattened = \"{} {} {} -> {} {} {}\".format(\n",
    "            line[\"timestamp\"], \n",
    "            line[\"src_ip\"], \n",
    "            line[\"src_port\"],\n",
    "            line[\"dest_ip\"], \n",
    "            line[\"dest_port\"], \n",
    "            line[\"alert\"][\"signature\"]\n",
    "        )\n",
    "        alerts.append(flattened)\n",
    "alerts[:25]"
   ]
  },
  {
   "cell_type": "markdown",
   "metadata": {},
   "source": [
    "## Aggregating data\n",
    "### Count unique alerts with severity values\n",
    "We can do various things. For example, track unique seen alerts with the respective severity."
   ]
  },
  {
   "cell_type": "code",
   "execution_count": 125,
   "metadata": {},
   "outputs": [],
   "source": [
    "data = readEveAllInMem()\n",
    "data = [d for d in data if \"alert\" in d[\"event_type\"]]\n",
    "seen = {}\n",
    "for d in data:\n",
    "    sig = d[\"alert\"][\"signature\"]\n",
    "    if sig not in seen:\n",
    "        seen[sig] = d[\"alert\"][\"severity\"]"
   ]
  },
  {
   "cell_type": "code",
   "execution_count": 126,
   "metadata": {},
   "outputs": [
    {
     "data": {
      "text/plain": [
       "{'SURICATA STREAM bad window update': 3,\n",
       " 'CDMCS: DNS request for Facebook': 1,\n",
       " 'CDMCS: Listed UA seen': 1,\n",
       " 'ET POLICY curl User-Agent Outbound': 2,\n",
       " 'GPL ATTACK_RESPONSE id check returned root': 2,\n",
       " 'CDMCS TLS Self Signed Certificate': 3}"
      ]
     },
     "execution_count": 126,
     "metadata": {},
     "output_type": "execute_result"
    }
   ],
   "source": [
    "seen"
   ]
  },
  {
   "cell_type": "markdown",
   "metadata": {},
   "source": [
    "### implement an alert counter."
   ]
  },
  {
   "cell_type": "code",
   "execution_count": 128,
   "metadata": {},
   "outputs": [],
   "source": [
    "data = readEveAllInMem()\n",
    "data = [d for d in data if \"alert\" in d[\"event_type\"]]\n",
    "seen = {}\n",
    "for d in data:\n",
    "    sig = d[\"alert\"][\"signature\"]\n",
    "    if sig in seen:\n",
    "        seen[sig] += 1\n",
    "    else:\n",
    "        seen[sig] = 1"
   ]
  },
  {
   "cell_type": "code",
   "execution_count": 129,
   "metadata": {},
   "outputs": [
    {
     "data": {
      "text/plain": [
       "{'SURICATA STREAM bad window update': 2,\n",
       " 'CDMCS: DNS request for Facebook': 10,\n",
       " 'CDMCS: Listed UA seen': 5,\n",
       " 'ET POLICY curl User-Agent Outbound': 5,\n",
       " 'GPL ATTACK_RESPONSE id check returned root': 5,\n",
       " 'CDMCS TLS Self Signed Certificate': 6}"
      ]
     },
     "execution_count": 129,
     "metadata": {},
     "output_type": "execute_result"
    }
   ],
   "source": [
    "seen"
   ]
  },
  {
   "cell_type": "markdown",
   "metadata": {},
   "source": [
    "### Formatting aggregations as dataframes\n",
    "\n",
    "Python dictionaries and lists can be a bit difficult to work with on human-readability front. Presenting one in a report might not work out well. Luckily, there is one tool from data science toolbox that helps us out - dataframes. Python implements them through `pandas` package that must be installed separately via `pip`."
   ]
  },
  {
   "cell_type": "code",
   "execution_count": 150,
   "metadata": {},
   "outputs": [],
   "source": [
    "import pandas as pd\n",
    "df = pd.DataFrame()\n",
    "df[\"signature\"] = seen.keys()\n",
    "df[\"count\"] = seen.values()"
   ]
  },
  {
   "cell_type": "code",
   "execution_count": 151,
   "metadata": {},
   "outputs": [
    {
     "data": {
      "text/html": [
       "<div>\n",
       "<style scoped>\n",
       "    .dataframe tbody tr th:only-of-type {\n",
       "        vertical-align: middle;\n",
       "    }\n",
       "\n",
       "    .dataframe tbody tr th {\n",
       "        vertical-align: top;\n",
       "    }\n",
       "\n",
       "    .dataframe thead th {\n",
       "        text-align: right;\n",
       "    }\n",
       "</style>\n",
       "<table border=\"1\" class=\"dataframe\">\n",
       "  <thead>\n",
       "    <tr style=\"text-align: right;\">\n",
       "      <th></th>\n",
       "      <th>signature</th>\n",
       "      <th>count</th>\n",
       "    </tr>\n",
       "  </thead>\n",
       "  <tbody>\n",
       "    <tr>\n",
       "      <th>0</th>\n",
       "      <td>SURICATA STREAM bad window update</td>\n",
       "      <td>2</td>\n",
       "    </tr>\n",
       "    <tr>\n",
       "      <th>1</th>\n",
       "      <td>CDMCS: DNS request for Facebook</td>\n",
       "      <td>10</td>\n",
       "    </tr>\n",
       "    <tr>\n",
       "      <th>2</th>\n",
       "      <td>CDMCS: Listed UA seen</td>\n",
       "      <td>5</td>\n",
       "    </tr>\n",
       "    <tr>\n",
       "      <th>3</th>\n",
       "      <td>ET POLICY curl User-Agent Outbound</td>\n",
       "      <td>5</td>\n",
       "    </tr>\n",
       "    <tr>\n",
       "      <th>4</th>\n",
       "      <td>GPL ATTACK_RESPONSE id check returned root</td>\n",
       "      <td>5</td>\n",
       "    </tr>\n",
       "    <tr>\n",
       "      <th>5</th>\n",
       "      <td>CDMCS TLS Self Signed Certificate</td>\n",
       "      <td>6</td>\n",
       "    </tr>\n",
       "  </tbody>\n",
       "</table>\n",
       "</div>"
      ],
      "text/plain": [
       "                                    signature  count\n",
       "0           SURICATA STREAM bad window update      2\n",
       "1             CDMCS: DNS request for Facebook     10\n",
       "2                       CDMCS: Listed UA seen      5\n",
       "3          ET POLICY curl User-Agent Outbound      5\n",
       "4  GPL ATTACK_RESPONSE id check returned root      5\n",
       "5           CDMCS TLS Self Signed Certificate      6"
      ]
     },
     "execution_count": 151,
     "metadata": {},
     "output_type": "execute_result"
    }
   ],
   "source": [
    "df"
   ]
  },
  {
   "cell_type": "code",
   "execution_count": 155,
   "metadata": {},
   "outputs": [
    {
     "data": {
      "text/plain": [
       "<matplotlib.axes._subplots.AxesSubplot at 0x7f00512e41f0>"
      ]
     },
     "execution_count": 155,
     "metadata": {},
     "output_type": "execute_result"
    },
    {
     "data": {
      "image/png": "[encoded data removed]",
      "text/plain": [
       "<Figure size 432x288 with 1 Axes>"
      ]
     },
     "metadata": {
      "needs_background": "light"
     },
     "output_type": "display_data"
    }
   ],
   "source": [
    "df.plot.bar(x='signature', y='count')"
   ]
  },
  {
   "cell_type": "code",
   "execution_count": 156,
   "metadata": {},
   "outputs": [
    {
     "data": {
      "text/plain": [
       "<matplotlib.axes._subplots.AxesSubplot at 0x7f0051ccba60>"
      ]
     },
     "execution_count": 156,
     "metadata": {},
     "output_type": "execute_result"
    },
    {
     "data": {
      "image/png": "[encoded data removed]",
      "text/plain": [
       "<Figure size 432x288 with 1 Axes>"
      ]
     },
     "metadata": {},
     "output_type": "display_data"
    }
   ],
   "source": [
    "#df.index = df.signature\n",
    "df.plot.pie(x='signature', y='count', labels=df.signature)"
   ]
  },
  {
   "cell_type": "markdown",
   "metadata": {},
   "source": [
    "### Time-series plotting"
   ]
  },
  {
   "cell_type": "markdown",
   "metadata": {},
   "source": [
    "Following example parses the timestamp of each message, splits a dictionary by suricata event type, and assigns each message to one of 24 bins (for every hour of the day). "
   ]
  },
  {
   "cell_type": "code",
   "execution_count": 157,
   "metadata": {},
   "outputs": [],
   "source": [
    "import datetime as dt\n",
    "events = {}\n",
    "for line in readEveLineByLine():\n",
    "    if line[\"event_type\"] == \"stats\":\n",
    "        continue\n",
    "        \n",
    "    t = line[\"timestamp\"]\n",
    "    t = dt.datetime.strptime(t, '%Y-%m-%dT%H:%M:%S.%f%z')\n",
    "    \n",
    "    if t.date() < dt.datetime.today().date() or t.date() > dt.datetime.today().date():\n",
    "        continue\n",
    "        \n",
    "    evType = line[\"event_type\"]\n",
    "\n",
    "    eventBin = t.hour\n",
    "    if evType not in events:\n",
    "        events[evType] = [0 for x in range(24)]\n",
    "    else:\n",
    "        events[evType][eventBin] += 1"
   ]
  },
  {
   "cell_type": "markdown",
   "metadata": {},
   "source": [
    "Then we can plot it in time."
   ]
  },
  {
   "cell_type": "code",
   "execution_count": 158,
   "metadata": {},
   "outputs": [],
   "source": [
    "import matplotlib.pyplot as plt"
   ]
  },
  {
   "cell_type": "code",
   "execution_count": 159,
   "metadata": {},
   "outputs": [
    {
     "data": {
      "text/plain": [
       "<matplotlib.legend.Legend at 0x7f0051894b80>"
      ]
     },
     "execution_count": 159,
     "metadata": {},
     "output_type": "execute_result"
    },
    {
     "data": {
      "image/png": "[encoded data removed]",
      "text/plain": [
       "<Figure size 432x288 with 1 Axes>"
      ]
     },
     "metadata": {
      "needs_background": "light"
     },
     "output_type": "display_data"
    }
   ],
   "source": [
    "for k, v in events.items():\n",
    "    plt.plot(v, label=k)\n",
    "\n",
    "plt.xlabel('hour')\n",
    "plt.ylabel('raw count')\n",
    "plt.legend()"
   ]
  },
  {
   "cell_type": "code",
   "execution_count": null,
   "metadata": {},
   "outputs": [],
   "source": []
  }
 ],
 "metadata": {
  "kernelspec": {
   "display_name": "Python 3",
   "language": "python",
   "name": "python3"
  },
  "language_info": {
   "codemirror_mode": {
    "name": "ipython",
    "version": 3
   },
   "file_extension": ".py",
   "mimetype": "text/x-python",
   "name": "python",
   "nbconvert_exporter": "python",
   "pygments_lexer": "ipython3",
   "version": "3.8.1"
  }
 },
 "nbformat": 4,
 "nbformat_minor": 4
}
