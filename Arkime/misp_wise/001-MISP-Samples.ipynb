{
 "cells": [
  {
   "cell_type": "code",
   "execution_count": null,
   "id": "746553b3-7ce1-4cb6-8761-de32446038fe",
   "metadata": {},
   "outputs": [],
   "source": [
    "%pip install pymisp > /dev/null"
   ]
  },
  {
   "cell_type": "code",
   "execution_count": null,
   "id": "e4dafc1e-d624-4029-bc1f-2e50678641f9",
   "metadata": {},
   "outputs": [],
   "source": [
    "import urllib3\n",
    "urllib3.disable_warnings(urllib3.exceptions.InsecureRequestWarning)"
   ]
  },
  {
   "cell_type": "markdown",
   "id": "a62035cb-7a53-4cc5-a9ff-fecc8228647d",
   "metadata": {},
   "source": [
    "* **Please change the token so it would reflect the MISP server you actually use.**"
   ]
  },
  {
   "cell_type": "code",
   "execution_count": null,
   "id": "37bf14a7-730e-4cb2-9386-7bbf4151b04d",
   "metadata": {},
   "outputs": [],
   "source": [
    "# This is from a local testing env, so commiting the secret for training is fine\n",
    "TOKEN = \"TOKEN\"\n",
    "HOST = \"https://192.168.56.12\""
   ]
  },
  {
   "cell_type": "code",
   "execution_count": null,
   "id": "75302e5c-07ec-4769-b797-d025f04580d6",
   "metadata": {},
   "outputs": [],
   "source": [
    "from pymisp import PyMISP"
   ]
  },
  {
   "cell_type": "code",
   "execution_count": null,
   "id": "b6c7d279-724a-4c47-b53f-16c34a1d9e9f",
   "metadata": {},
   "outputs": [],
   "source": [
    "misp = PyMISP(HOST, TOKEN, False, debug=False)"
   ]
  },
  {
   "cell_type": "code",
   "execution_count": null,
   "id": "a3bf4cb3-ea4d-4249-93d1-95807ac18091",
   "metadata": {},
   "outputs": [],
   "source": [
    "result = misp.search(controller='attributes', timestamp=\"1d\", type_attribute=\"domain\", category=\"Network activity\", pythonify=False)"
   ]
  },
  {
   "cell_type": "code",
   "execution_count": null,
   "id": "f2023e94-a841-4d81-9893-a32d629c8f5a",
   "metadata": {},
   "outputs": [],
   "source": [
    "from IPython.display import JSON"
   ]
  },
  {
   "cell_type": "code",
   "execution_count": null,
   "id": "04626e16-a5a0-49e1-99a4-eca4fc96608e",
   "metadata": {},
   "outputs": [],
   "source": [
    "JSON(result)"
   ]
  },
  {
   "cell_type": "code",
   "execution_count": null,
   "id": "f40bb4da-cf95-45c8-8356-57a04e526f94",
   "metadata": {},
   "outputs": [],
   "source": [
    "import pandas as pd"
   ]
  },
  {
   "cell_type": "code",
   "execution_count": null,
   "id": "741061e4-9626-4e53-9c00-8ff2e8e604d6",
   "metadata": {},
   "outputs": [],
   "source": [
    "DF = pd.json_normalize(result[\"Attribute\"])\n",
    "len(DF)"
   ]
  },
  {
   "cell_type": "code",
   "execution_count": null,
   "id": "fb52a077-2dfd-487d-999b-4702f6a8df40",
   "metadata": {},
   "outputs": [],
   "source": [
    "DF"
   ]
  },
  {
   "cell_type": "code",
   "execution_count": null,
   "id": "bc5d9d77-b502-49d4-a93c-9fe0d8337c97",
   "metadata": {},
   "outputs": [],
   "source": [
    "DF.groupby(\"type\").agg({\"value\": \"nunique\", \"event_id\": \"nunique\"})"
   ]
  },
  {
   "cell_type": "code",
   "execution_count": null,
   "id": "4306fbf3-6aeb-4370-b94e-929fb6d8152c",
   "metadata": {},
   "outputs": [],
   "source": [
    "DF.groupby([\"Event.info\", \"event_id\", \"type\"]).agg({\"value\": [\"unique\", \"nunique\"]})"
   ]
  }
 ],
 "metadata": {
  "kernelspec": {
   "display_name": "Python 3 (ipykernel)",
   "language": "python",
   "name": "python3"
  },
  "language_info": {
   "codemirror_mode": {
    "name": "ipython",
    "version": 3
   },
   "file_extension": ".py",
   "mimetype": "text/x-python",
   "name": "python",
   "nbconvert_exporter": "python",
   "pygments_lexer": "ipython3",
   "version": "3.10.12"
  }
 },
 "nbformat": 4,
 "nbformat_minor": 5
}
