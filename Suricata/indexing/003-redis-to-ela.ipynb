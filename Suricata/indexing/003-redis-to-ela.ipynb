{
 "cells": [
  {
   "cell_type": "markdown",
   "metadata": {},
   "source": [
    "# Combining redis and elasticsearch"
   ]
  },
  {
   "cell_type": "code",
   "execution_count": 63,
   "metadata": {},
   "outputs": [],
   "source": [
    "import redis"
   ]
  },
  {
   "cell_type": "code",
   "execution_count": 64,
   "metadata": {},
   "outputs": [],
   "source": [
    "r = redis.Redis(host=\"192.168.10.15\", port=6379)"
   ]
  },
  {
   "cell_type": "code",
   "execution_count": 65,
   "metadata": {},
   "outputs": [
    {
     "data": {
      "text/plain": [
       "1"
      ]
     },
     "execution_count": 65,
     "metadata": {},
     "output_type": "execute_result"
    }
   ],
   "source": [
    "key = \"test-1\"\n",
    "r.delete(key)"
   ]
  },
  {
   "cell_type": "code",
   "execution_count": 66,
   "metadata": {},
   "outputs": [],
   "source": [
    "msgs = [\"message {}\".format(i) for i in range(10)]\n",
    "for msg in msgs:\n",
    "    r.rpush(key, msg)"
   ]
  },
  {
   "cell_type": "code",
   "execution_count": 67,
   "metadata": {},
   "outputs": [
    {
     "data": {
      "text/plain": [
       "True"
      ]
     },
     "execution_count": 67,
     "metadata": {},
     "output_type": "execute_result"
    }
   ],
   "source": [
    "from elasticsearch import Elasticsearch\n",
    "e = Elasticsearch(host=\"192.168.10.15\")\n",
    "e.ping()"
   ]
  },
  {
   "cell_type": "code",
   "execution_count": 68,
   "metadata": {},
   "outputs": [],
   "source": [
    "import json\n",
    "bulk = []\n",
    "for msg in r.lrange(key, 0, -1):\n",
    "    bulk.append({\n",
    "        \"index\": {\n",
    "            \"_index\": key,\n",
    "            \"_type\": \"_doc\"\n",
    "        }\n",
    "    })\n",
    "    msg = msg.decode(\"utf-8\")\n",
    "    bulk.append({\n",
    "        \"message\": msg\n",
    "    })\n",
    "\n",
    "resp = e.bulk(body=bulk)\n",
    "if resp[\"errors\"]:\n",
    "    print(resp)"
   ]
  },
  {
   "cell_type": "code",
   "execution_count": 69,
   "metadata": {},
   "outputs": [],
   "source": [
    "docs = e.search(key)\n",
    "docs = docs[\"hits\"][\"hits\"]"
   ]
  },
  {
   "cell_type": "code",
   "execution_count": 70,
   "metadata": {},
   "outputs": [
    {
     "name": "stdout",
     "output_type": "stream",
     "text": [
      "{'message': 'message 1'}\n",
      "{'message': 'message 5'}\n",
      "{'message': 'message 6'}\n",
      "{'message': 'message 8'}\n",
      "{'message': 'message 7'}\n",
      "{'message': 'message 1'}\n",
      "{'message': 'message 3'}\n",
      "{'message': 'message 5'}\n",
      "{'message': 'message 6'}\n",
      "{'message': 'message 9'}\n"
     ]
    }
   ],
   "source": [
    "for doc in docs:\n",
    "    print(doc[\"_source\"])"
   ]
  }
 ],
 "metadata": {
  "kernelspec": {
   "display_name": "Python 3",
   "language": "python",
   "name": "python3"
  },
  "language_info": {
   "codemirror_mode": {
    "name": "ipython",
    "version": 3
   },
   "file_extension": ".py",
   "mimetype": "text/x-python",
   "name": "python",
   "nbconvert_exporter": "python",
   "pygments_lexer": "ipython3",
   "version": "3.8.1"
  }
 },
 "nbformat": 4,
 "nbformat_minor": 4
}
