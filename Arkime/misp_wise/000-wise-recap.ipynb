{
 "cells": [
  {
   "cell_type": "markdown",
   "id": "12b8003c-cd04-4c14-b3d1-5e34c260ca62",
   "metadata": {},
   "source": [
    "# Generating WISE entries\n",
    "\n",
    "## Adding a new dababase field\n",
    "\n",
    "Firstly, ensure that you have defined a custom field in `config.ini`. See [official documentation](https://arkime.com/settings#custom-fields) for more info.\n",
    "\n",
    "```ini\n",
    "[custom-fields]\n",
    "target.name=kind:lotermfield;count:true;friendly:Name;db:target.name;help:Target name\n",
    "```\n",
    "\n",
    "Note that this can be done in multiple ways. It can be defined within the WISE data file itself. Or it can be added in WISE configuration. I personally prefer arkime main config as central source of truth. \n",
    "\n",
    "Also, don't forget to add this into session view.\n",
    "\n",
    "```ini\n",
    "[custom-views]\n",
    "cdmcs=title:Cyber Defence Monitoring Course;require:target;fields:target.name\n",
    "```\n",
    "\n",
    "Finally, make sure WISE is configured to load the targets TXT file.\n",
    "\n",
    "```\n",
    "[file:ip]\n",
    "file=/vagrant/targets.txt\n",
    "tags=ipwise\n",
    "type=ip\n",
    "format=tagger\n",
    "```"
   ]
  },
  {
   "cell_type": "markdown",
   "id": "88819a6b-b575-404b-9a56-67b5b470cf64",
   "metadata": {},
   "source": [
    "## Define the arkime txt header"
   ]
  },
  {
   "cell_type": "markdown",
   "id": "aa04cc46-7dec-4bcb-8332-fbef251fcd90",
   "metadata": {},
   "source": [
    "Firstly, we define a field shortcut for a field that has already been created in arkime main config."
   ]
  },
  {
   "cell_type": "code",
   "execution_count": 1,
   "id": "3f08af26-b59e-4629-8bf6-2f7272ffdfe5",
   "metadata": {},
   "outputs": [],
   "source": [
    "FIELDS = [\n",
    "    \"#field:target.name;shortcut:0\",\n",
    "]"
   ]
  },
  {
   "cell_type": "markdown",
   "id": "4b8b8975-e283-470d-b904-60d57a6eafb0",
   "metadata": {},
   "source": [
    "We can also create new fields in the database file itself. Though different options in field creation can easily lead to framented and confusing configuration. But since we're generating the databse file in code anyway, we might as well make the field generation more structured. Making field creation lines manually is very much prone to errors."
   ]
  },
  {
   "cell_type": "code",
   "execution_count": 2,
   "id": "4eaac915-6446-49ba-999d-530c8a50dd55",
   "metadata": {},
   "outputs": [],
   "source": [
    "NEW_FIELD = [\n",
    "    \"#field:whatever.int\",\n",
    "    \"kind:integer\",\n",
    "    \"count:false\",\n",
    "    \"friendly:A Integer\",\n",
    "    \"db:whatever.dbint\",\n",
    "    \"help:Help for integer\",\n",
    "    \"shortcut:1\"\n",
    "]"
   ]
  },
  {
   "cell_type": "code",
   "execution_count": 3,
   "id": "dab0266c-b297-48c3-bbcc-c7d4b3f9ad93",
   "metadata": {},
   "outputs": [],
   "source": [
    "FIELDS.append(\";\".join(NEW_FIELD))"
   ]
  },
  {
   "cell_type": "markdown",
   "id": "2f753a94-e891-4d67-8fc0-ac02aeb0854f",
   "metadata": {},
   "source": [
    "Then we create a structured definition of fields. This is a simple example. In reality, this data structure would be parsed from somewhere."
   ]
  },
  {
   "cell_type": "code",
   "execution_count": 4,
   "id": "0a52ded8-3868-441d-a391-2d380d669507",
   "metadata": {},
   "outputs": [],
   "source": [
    "DATA_IP = [\n",
    "    {\n",
    "        \"ip\": \"192.168.56.11\",\n",
    "        \"name\": \"vagrant_host\",\n",
    "        \"whatever\": 13\n",
    "    },\n",
    "    {\n",
    "        \"ip\": \"8.8.8.8\",\n",
    "        \"name\": \"google_dns\",\n",
    "        \"whatever\": 666\n",
    "    },\n",
    "    {\n",
    "        \"ip\": \"10.0.2.15\",\n",
    "        \"name\": \"vagrant\",\n",
    "        \"whatever\": 0,\n",
    "    }\n",
    "]"
   ]
  },
  {
   "cell_type": "code",
   "execution_count": 5,
   "id": "f8a203da-a6ae-45c3-a6e9-fda6166ab894",
   "metadata": {},
   "outputs": [],
   "source": [
    "TEMPLATE = \"{ip};0={name};1={whatever}\""
   ]
  },
  {
   "cell_type": "markdown",
   "id": "49190658-8986-48c7-be7d-8af6ee89fe57",
   "metadata": {},
   "source": [
    "`format_map`on python format string simply replaces a named placeholder with corresponding dictionary key. This is equal to `TEMPLATE.format(ip=item[\"ip\"], name=item[\"name\"]), whatever=item[\"whatever\"]`."
   ]
  },
  {
   "cell_type": "code",
   "execution_count": 6,
   "id": "dc7efed9-40db-42cf-8472-abfd0604ace8",
   "metadata": {},
   "outputs": [],
   "source": [
    "for item in DATA_IP:\n",
    "    FIELDS.append(TEMPLATE.format_map(item))"
   ]
  },
  {
   "cell_type": "code",
   "execution_count": 7,
   "id": "586e61de-13b1-4c14-8dc4-ea30e8a0580a",
   "metadata": {},
   "outputs": [
    {
     "data": {
      "text/plain": [
       "['#field:target.name;shortcut:0',\n",
       " '#field:whatever.int;kind:integer;count:false;friendly:A Integer;db:whatever.dbint;help:Help for integer;shortcut:1',\n",
       " '192.168.56.11;0=vagrant_host;1=13',\n",
       " '8.8.8.8;0=google_dns;1=666',\n",
       " '10.0.2.15;0=vagrant;1=0']"
      ]
     },
     "execution_count": 7,
     "metadata": {},
     "output_type": "execute_result"
    }
   ],
   "source": [
    "FIELDS"
   ]
  },
  {
   "cell_type": "markdown",
   "id": "1b79eb3a-89f4-4977-8566-46bdc8ed85a6",
   "metadata": {},
   "source": [
    "Generated lines can then be concatenated with newline to create database file content."
   ]
  },
  {
   "cell_type": "code",
   "execution_count": 8,
   "id": "2887cc9c-c4c3-4e81-a034-5fd680cb135d",
   "metadata": {},
   "outputs": [
    {
     "name": "stdout",
     "output_type": "stream",
     "text": [
      "#field:target.name;shortcut:0\n",
      "#field:whatever.int;kind:integer;count:false;friendly:A Integer;db:whatever.dbint;help:Help for integer;shortcut:1\n",
      "192.168.56.11;0=vagrant_host;1=13\n",
      "8.8.8.8;0=google_dns;1=666\n",
      "10.0.2.15;0=vagrant;1=0\n"
     ]
    }
   ],
   "source": [
    "FIELDS = \"\\n\".join(FIELDS)\n",
    "print(FIELDS)"
   ]
  },
  {
   "cell_type": "markdown",
   "id": "9f8c2f91-8ca7-4d94-b84b-0a534fa234b3",
   "metadata": {},
   "source": [
    "And finally we dump the result into a file handle."
   ]
  },
  {
   "cell_type": "code",
   "execution_count": 9,
   "id": "baa19416-e42b-42d5-b27c-bb0f0af60c09",
   "metadata": {},
   "outputs": [],
   "source": [
    "with open(\"targets.txt\", \"w\") as handle:\n",
    "    handle.write(FIELDS)"
   ]
  }
 ],
 "metadata": {
  "kernelspec": {
   "display_name": "Python 3 (ipykernel)",
   "language": "python",
   "name": "python3"
  },
  "language_info": {
   "codemirror_mode": {
    "name": "ipython",
    "version": 3
   },
   "file_extension": ".py",
   "mimetype": "text/x-python",
   "name": "python",
   "nbconvert_exporter": "python",
   "pygments_lexer": "ipython3",
   "version": "3.12.3"
  }
 },
 "nbformat": 4,
 "nbformat_minor": 5
}
