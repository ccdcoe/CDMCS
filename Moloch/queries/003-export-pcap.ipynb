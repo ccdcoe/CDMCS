{
 "cells": [
  {
   "cell_type": "markdown",
   "metadata": {},
   "source": [
    "# Downloading raw PCAP\n",
    "\n",
    "* https://github.com/aol/moloch/wiki/API#sessionspcap\n",
    "\n",
    "We can download raw PCAP data, as opposed to indexed metadata, via `sessions.pcap` endpoint. Can be useful if you wish to extract capture data for closer investigation in wireshark. Start by setting up variables, as always."
   ]
  },
  {
   "cell_type": "code",
   "execution_count": 25,
   "metadata": {},
   "outputs": [],
   "source": [
    "import requests\n",
    "from requests.auth import HTTPDigestAuth\n",
    "user=\"vagrant\"\n",
    "passwd=\"vagrant\"\n",
    "auth=HTTPDigestAuth(user, passwd)"
   ]
  },
  {
   "cell_type": "markdown",
   "metadata": {},
   "source": [
    "Then extract all DNS packets by Moloch query. Note the `stream=True` parameter for our GET request. **This is very important, as you do not want your script to pull all PCAP data into memory before writing out the file**."
   ]
  },
  {
   "cell_type": "code",
   "execution_count": 26,
   "metadata": {},
   "outputs": [],
   "source": [
    "query = {\n",
    "    \"expression\": \"protocols == dns && dns.host == berylia.org\",\n",
    "    \"date\": 1,\n",
    "}\n",
    "resp = requests.get(\"http://192.168.10.13:8005/sessions.pcap\", params=query, auth=auth, stream=True)"
   ]
  },
  {
   "cell_type": "markdown",
   "metadata": {},
   "source": [
    "Stream the response data into a newly create file. Open the file in wireshark to verify output."
   ]
  },
  {
   "cell_type": "code",
   "execution_count": 27,
   "metadata": {},
   "outputs": [],
   "source": [
    "with open(\"/vagrant/dns-berylia.pcap\", 'wb') as f:\n",
    "    for chunk in resp.iter_content(chunk_size=8192):\n",
    "        if chunk: # filter out keep-alive new chunks\n",
    "            f.write(chunk)"
   ]
  },
  {
   "cell_type": "markdown",
   "metadata": {},
   "source": [
    "Note that multiple sessions get clumpted into a single PCAP stream when relying on Moloch expressions. Alternatively, `ids` parameter can be specified to download specific sessions one by one and to write each session into a distinct output file. For example, we can extract a list of example session ID-s via CSV endpoint."
   ]
  },
  {
   "cell_type": "code",
   "execution_count": 28,
   "metadata": {},
   "outputs": [
    {
     "name": "stdout",
     "output_type": "stream",
     "text": [
      "['190522-tAIbGZrl6xpCVLZj2bl_S1lC', '190522-tAJRqThOVJhLtbrhKDTeq0Bt', '190522-tALAA6vM5_VCk7L3XxVwCA2m', '190522-tAIPovzkOupJuL7UTkfdn_Vy', '190522-tAKtD5JXy2xNXpNl5h0qSlQR', '190522-tAKl1A73clNLvqWs15y1wZIj', '190522-tAJV2FBAL8FDbY7c-y0MbSVN', '190522-tALVEPKxwH9EaLaeV7PYq1XV', '190522-tAIAze0zGC5IX4AOOziGUjZr', '190522-tALa6KLjgwtM1LPM3dZVA_wz', '190522-tAJBMxxLhaxPOaVjeBUwZvMg', '190522-tAIdrT8OC11Fg7cFuYf_xZ3w', '190522-tAIsjQzSRhFCG4DAkEOW0CgZ', '190522-tAICmKIWPgZIe4AWScJl0eEx']\n"
     ]
    }
   ],
   "source": [
    "import datetime as dt\n",
    "end = int(dt.datetime.now().strftime(\"%s\"))\n",
    "start = end - 5*60\n",
    "r = requests.get(\"http://192.168.10.13:8005/sessions.csv\", params={\n",
    "    \"startTime\": start,\n",
    "    \"stopTime\": end,\n",
    "    \"date\": 1,\n",
    "    \"expression\": \"host.dns == berylia.org\",\n",
    "    \"fields\": \",\".join([\n",
    "        \"_id\"\n",
    "    ])\n",
    "}, auth=auth)\n",
    "ids = r.text.split(\"\\r\\n\")\n",
    "# Drop csv header\n",
    "ids = ids[1:]\n",
    "# Get rid of empty element from last newline\n",
    "ids = [i for i in ids if len(i) > 0]\n",
    "print(ids)"
   ]
  },
  {
   "cell_type": "code",
   "execution_count": 29,
   "metadata": {},
   "outputs": [],
   "source": [
    "for i in ids:\n",
    "    query = {\n",
    "        \"ids\": i,\n",
    "        \"date\": 1,\n",
    "    }\n",
    "    resp = requests.get(\"http://192.168.10.13:8005/sessions.pcap\", params=query, auth=auth, stream=True)\n",
    "    with open(\"/vagrant/{}.pcap\".format(i), 'wb') as f:\n",
    "        for chunk in resp.iter_content(chunk_size=8192):\n",
    "            if chunk: # filter out keep-alive new chunks\n",
    "                f.write(chunk)"
   ]
  },
  {
   "cell_type": "markdown",
   "metadata": {},
   "source": [
    "# Tasks\n",
    "\n",
    "See [suricata eve.json parsing example](https://github.com/ccdcoe/CDMCS/blob/master/Suricata/indexing/001-load-eve.ipynb). \n",
    "* Load `community_id` values from `alert` events in `/var/log/suricata/eve.json`. Write raw pcap data for each `community_id` into a distinct pcap file."
   ]
  },
  {
   "cell_type": "code",
   "execution_count": null,
   "metadata": {},
   "outputs": [],
   "source": []
  }
 ],
 "metadata": {
  "kernelspec": {
   "display_name": "Python 3",
   "language": "python",
   "name": "python3"
  },
  "language_info": {
   "codemirror_mode": {
    "name": "ipython",
    "version": 3
   },
   "file_extension": ".py",
   "mimetype": "text/x-python",
   "name": "python",
   "nbconvert_exporter": "python",
   "pygments_lexer": "ipython3",
   "version": "3.6.7"
  }
 },
 "nbformat": 4,
 "nbformat_minor": 2
}
