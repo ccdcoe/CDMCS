{
 "cells": [
  {
   "cell_type": "markdown",
   "metadata": {},
   "source": [
    "# Extracting unique values and sessions"
   ]
  },
  {
   "cell_type": "markdown",
   "metadata": {},
   "source": [
    "Firstly, we need to import libraries for constructing HTTP queries that are authenticated with HTTP digest."
   ]
  },
  {
   "cell_type": "code",
   "execution_count": 194,
   "metadata": {},
   "outputs": [],
   "source": [
    "import requests\n",
    "from requests.auth import HTTPDigestAuth"
   ]
  },
  {
   "cell_type": "markdown",
   "metadata": {},
   "source": [
    "Also, define authentication params, so we can reuse them as variables."
   ]
  },
  {
   "cell_type": "code",
   "execution_count": 195,
   "metadata": {},
   "outputs": [],
   "source": [
    "user=\"vagrant\"\n",
    "passwd=\"vagrant\""
   ]
  },
  {
   "cell_type": "code",
   "execution_count": 196,
   "metadata": {},
   "outputs": [],
   "source": [
    "auth=HTTPDigestAuth(user, passwd)"
   ]
  },
  {
   "cell_type": "markdown",
   "metadata": {},
   "source": [
    "## Uniq\n",
    "\n",
    "Supported query parameters are documented here:\n",
    "* https://github.com/aol/moloch/wiki/API#uniquetxt\n",
    "\n",
    "Then construct an example query that is limited to dns traffic."
   ]
  },
  {
   "cell_type": "code",
   "execution_count": 197,
   "metadata": {},
   "outputs": [],
   "source": [
    "query = {\n",
    "    \"expression\": \"protocols == dns\",\n",
    "    \"exp\": \"dns.host\"\n",
    "}"
   ]
  },
  {
   "cell_type": "code",
   "execution_count": 198,
   "metadata": {},
   "outputs": [],
   "source": [
    "resp = requests.get(\"http://192.168.10.13:8005/unique.txt\", params=query, auth=auth)"
   ]
  },
  {
   "cell_type": "code",
   "execution_count": 199,
   "metadata": {},
   "outputs": [
    {
     "name": "stdout",
     "output_type": "stream",
     "text": [
      "berylia.org\n",
      "self-signed.badssl.com\n",
      "testmyids.com\n",
      "star-mini.c10r.facebook.com\n",
      "www.facebook.com\n",
      "sysadminnid.tumblr.com\n",
      "dualstack.python.map.fastly.net\n",
      "pypi.python.org\n",
      "neti.ee\n",
      "dualstack.r.ssl.global.fastly.net\n",
      "files.pythonhosted.org\n",
      "pypi.org\n",
      "\n"
     ]
    }
   ],
   "source": [
    "print(resp.text)"
   ]
  },
  {
   "cell_type": "markdown",
   "metadata": {},
   "source": [
    "We can limit the query to last N hours."
   ]
  },
  {
   "cell_type": "code",
   "execution_count": 200,
   "metadata": {},
   "outputs": [],
   "source": [
    "query = {\n",
    "    \"expression\": \"protocols == dns\",\n",
    "    \"exp\": \"dns.host\",\n",
    "    \"date\": 2,\n",
    "}\n",
    "resp = requests.get(\"http://192.168.10.13:8005/unique.txt\", params=query, auth=auth)"
   ]
  },
  {
   "cell_type": "markdown",
   "metadata": {},
   "source": [
    "Alternatively, we can specify time range as unix epoch. A specific range can be created in python like this:"
   ]
  },
  {
   "cell_type": "code",
   "execution_count": 201,
   "metadata": {},
   "outputs": [],
   "source": [
    "import datetime as dt\n",
    "start = int(dt.datetime.strptime('04/16/2019 17:00:00', '%m/%d/%Y %H:%M:%S').strftime(\"%s\"))\n",
    "end = int(dt.datetime.strptime('04/16/2019 18:00:00', '%m/%d/%Y %H:%M:%S').strftime(\"%s\"))"
   ]
  },
  {
   "cell_type": "markdown",
   "metadata": {},
   "source": [
    "Or to get an inverval T backwards from current time. Example creates interval of 15 minutes"
   ]
  },
  {
   "cell_type": "code",
   "execution_count": 202,
   "metadata": {},
   "outputs": [],
   "source": [
    "end = int(dt.datetime.now().strftime(\"%s\"))\n",
    "start = end - 15*60"
   ]
  },
  {
   "cell_type": "code",
   "execution_count": 203,
   "metadata": {},
   "outputs": [],
   "source": [
    "query = {\n",
    "    \"expression\": \"protocols == dns\",\n",
    "    \"exp\": \"dns.host\",\n",
    "    \"startTime\": start,\n",
    "    \"stopTime\": end,\n",
    "}\n",
    "resp = requests.get(\"http://192.168.10.13:8005/unique.txt\", params=query, auth=auth)\n",
    "resp = resp.text.split(\"\\n\")"
   ]
  },
  {
   "cell_type": "code",
   "execution_count": 204,
   "metadata": {},
   "outputs": [
    {
     "name": "stdout",
     "output_type": "stream",
     "text": [
      "['berylia.org', 'sysadminnid.tumblr.com', 'self-signed.badssl.com', 'testmyids.com', 'star-mini.c10r.facebook.com', 'www.facebook.com', '']\n"
     ]
    }
   ],
   "source": [
    "print(resp)"
   ]
  },
  {
   "cell_type": "markdown",
   "metadata": {},
   "source": [
    "We can also extract the occurrence counts."
   ]
  },
  {
   "cell_type": "code",
   "execution_count": 205,
   "metadata": {},
   "outputs": [],
   "source": [
    "query = {\n",
    "    \"expression\": \"protocols == dns\",\n",
    "    \"exp\": \"dns.host\",\n",
    "    \"startTime\": start,\n",
    "    \"stopTime\": end,\n",
    "    \"counts\": 1,\n",
    "}\n",
    "resp = requests.get(\"http://192.168.10.13:8005/unique.txt\", params=query, auth=auth)\n",
    "resp = resp.text.split(\"\\n\")"
   ]
  },
  {
   "cell_type": "code",
   "execution_count": 206,
   "metadata": {},
   "outputs": [
    {
     "name": "stdout",
     "output_type": "stream",
     "text": [
      "['berylia.org, 32', 'sysadminnid.tumblr.com, 16', 'self-signed.badssl.com, 15', 'testmyids.com, 15', 'star-mini.c10r.facebook.com, 13', 'www.facebook.com, 13', '']\n"
     ]
    }
   ],
   "source": [
    "print(resp)"
   ]
  },
  {
   "cell_type": "markdown",
   "metadata": {},
   "source": [
    "Turning it into python dictionary would likely be more useful."
   ]
  },
  {
   "cell_type": "code",
   "execution_count": 207,
   "metadata": {},
   "outputs": [],
   "source": [
    "data = {}\n",
    "for r in resp:\n",
    "    if len(r) > 0:\n",
    "        bits = r.split(\",\")\n",
    "        data[bits[0]] = int(bits[1])"
   ]
  },
  {
   "cell_type": "code",
   "execution_count": 208,
   "metadata": {},
   "outputs": [
    {
     "data": {
      "text/plain": [
       "{'berylia.org': 32,\n",
       " 'sysadminnid.tumblr.com': 16,\n",
       " 'self-signed.badssl.com': 15,\n",
       " 'testmyids.com': 15,\n",
       " 'star-mini.c10r.facebook.com': 13,\n",
       " 'www.facebook.com': 13}"
      ]
     },
     "execution_count": 208,
     "metadata": {},
     "output_type": "execute_result"
    }
   ],
   "source": [
    "data"
   ]
  },
  {
   "cell_type": "code",
   "execution_count": 209,
   "metadata": {},
   "outputs": [
    {
     "data": {
      "image/png": "[encoded data removed]",
      "text/plain": [
       "<Figure size 432x288 with 1 Axes>"
      ]
     },
     "metadata": {},
     "output_type": "display_data"
    }
   ],
   "source": [
    "import matplotlib.pyplot as plt\n",
    "\n",
    "#f = plt.figure()\n",
    "# Data to plot\n",
    "labels = data.keys()\n",
    "sizes = data.values()\n",
    "# separate slices that exceed some value\n",
    "explode = [0.1 if val > 20 else 0 for val in sizes]\n",
    "explode[0] = 0.1\n",
    "\n",
    "# Plot\n",
    "plt.pie(sizes, explode=explode, labels=labels, autopct='%1.1f%%', shadow=True, startangle=140)\n",
    "\n",
    "plt.axis('equal')\n",
    "plt.show()\n",
    "\n",
    "#f.savefig('/vagrant/plot.pdf', bbox_inches='tight')"
   ]
  },
  {
   "cell_type": "markdown",
   "metadata": {},
   "source": [
    "Suppose we wanted to write a script that crawls all indexed data from past 4 hours in 1 minute increments that would memorize perviously seen values. Previously unobserved values should be printed with human readable of that bucket."
   ]
  },
  {
   "cell_type": "code",
   "execution_count": 210,
   "metadata": {},
   "outputs": [
    {
     "name": "stdout",
     "output_type": "stream",
     "text": [
      "2019-05-22 08:52:09 first occurrence of 53\n",
      "2019-05-22 08:52:09 first occurrence of 443\n",
      "2019-05-22 08:52:09 first occurrence of 80\n",
      "2019-05-22 08:52:09 first occurrence of 8888\n",
      "2019-05-22 08:52:09 first occurrence of 57621\n",
      "2019-05-22 08:58:09 first occurrence of 0\n",
      "2019-05-22 09:00:09 first occurrence of 67\n",
      "2019-05-22 09:00:09 first occurrence of 68\n",
      "2019-05-22 11:06:09 first occurrence of 8005\n",
      "2019-05-22 11:06:09 first occurrence of 60406\n",
      "2019-05-22 11:06:09 first occurrence of 60410\n",
      "2019-05-22 11:06:09 first occurrence of 60416\n",
      "2019-05-22 11:06:09 first occurrence of 60418\n",
      "2019-05-22 12:20:09 first occurrence of 34480\n",
      "2019-05-22 12:22:09 first occurrence of 34546\n",
      "2019-05-22 12:48:09 first occurrence of 35456\n",
      "2019-05-22 12:50:09 first occurrence of 35510\n"
     ]
    }
   ],
   "source": [
    "end = int(dt.datetime.now().strftime(\"%s\"))\n",
    "maximum = end\n",
    "start = end - 4*60*60\n",
    "items = []\n",
    "while maximum > start:\n",
    "    end = start + 60\n",
    "    resp = requests.get(\"http://192.168.10.13:8005/unique.txt\", params={\n",
    "        \"exp\": \"dstPort\",\n",
    "        \"startTime\": start,\n",
    "        \"stopTime\": end,\n",
    "    }, auth=auth)\n",
    "    resp = resp.text.split(\"\\n\")\n",
    "    resp = [r for r in resp if len(r) > 0]\n",
    "    for item in resp:\n",
    "        if item not in items:\n",
    "            readable = dt.datetime.utcfromtimestamp(start).strftime('%Y-%m-%d %H:%M:%S')\n",
    "            print(\"{} first occurrence of {}\".format(readable, item))\n",
    "            items.append(item)\n",
    "    start = end"
   ]
  },
  {
   "cell_type": "markdown",
   "metadata": {},
   "source": [
    "Note that `dstPort` was chosen as aggregated field only because vagrant box lacks real traffic. Doing this query over more traditional IOC fields, such as source IP addresses, JA3 hashes, user-agents, URI fields, etc would be much more useful. "
   ]
  },
  {
   "cell_type": "markdown",
   "metadata": {},
   "source": [
    "## Sessions\n",
    "\n",
    "We have a list of unique domains. And would like to extract all sessions for each domain from last 5 minutes. Useful for reducing manual work when exploring, or for generating reports."
   ]
  },
  {
   "cell_type": "code",
   "execution_count": 211,
   "metadata": {},
   "outputs": [
    {
     "data": {
      "text/plain": [
       "['berylia.org',\n",
       " 'self-signed.badssl.com',\n",
       " 'testmyids.com',\n",
       " 'star-mini.c10r.facebook.com',\n",
       " 'www.facebook.com',\n",
       " 'sysadminnid.tumblr.com',\n",
       " 'dualstack.python.map.fastly.net',\n",
       " 'pypi.python.org',\n",
       " 'neti.ee',\n",
       " 'dualstack.r.ssl.global.fastly.net',\n",
       " 'files.pythonhosted.org',\n",
       " 'pypi.org']"
      ]
     },
     "execution_count": 211,
     "metadata": {},
     "output_type": "execute_result"
    }
   ],
   "source": [
    "query = {\n",
    "    \"expression\": \"protocols == dns\",\n",
    "    \"exp\": \"dns.host\",\n",
    "    \"date\": 1,\n",
    "}\n",
    "resp = requests.get(\"http://192.168.10.13:8005/unique.txt\", params=query, auth=auth)\n",
    "domains = [r for r in resp.text.split(\"\\n\") if len(r) > 0]\n",
    "domains"
   ]
  },
  {
   "cell_type": "markdown",
   "metadata": {},
   "source": [
    "`fields` parameter can be used to customize resulting CSV."
   ]
  },
  {
   "cell_type": "code",
   "execution_count": 212,
   "metadata": {},
   "outputs": [],
   "source": [
    "end = int(dt.datetime.now().strftime(\"%s\"))\n",
    "start = end - 5*60\n",
    "\n",
    "resps = {}\n",
    "for d in domains:\n",
    "    r = requests.get(\"http://192.168.10.13:8005/sessions.csv\", params={\n",
    "        \"startTime\": start,\n",
    "        \"stopTime\": end,\n",
    "        \"expression\": \"host.dns == {}\".format(d),\n",
    "        \"fields\": \",\".join([\n",
    "            \"srcIp\",\n",
    "            \"dstIp\",\n",
    "            \"communityId\",\n",
    "            \"dns.status\",\n",
    "            \"srcBytes\",\n",
    "            \"dstBytes\"\n",
    "        ])\n",
    "    }, auth=auth)\n",
    "    resps[d] = r.text"
   ]
  },
  {
   "cell_type": "code",
   "execution_count": 214,
   "metadata": {},
   "outputs": [
    {
     "name": "stdout",
     "output_type": "stream",
     "text": [
      "----berylia.org-----\n",
      "Src IP, Dst IP, Community Id, Status Code, Src Bytes, Dst Bytes\n",
      "10.0.2.15,8.8.8.8,1:C1NNXm+xTZ2XKoN//wHi5fFQn0w=,\"NOERROR\",94,132\n",
      "10.0.2.15,1.1.1.1,1:v0rw20QsmBSk3kt9TFz7FeLNaRY=,\"NOERROR\",94,164\n",
      "10.0.2.15,1.1.1.1,1:EWHrZX7VDnuPyizwgCqkjC68qmE=,\"NOERROR\",94,164\n",
      "10.0.2.15,8.8.8.8,1:G9HUkcGorfHFpGn9cW5DclIOYtI=,\"NOERROR\",94,132\n",
      "10.0.2.15,1.1.1.1,1:db3Avykvp8HY1MWRmBiP0YIeXvw=,\"NOERROR\",94,164\n",
      "10.0.2.15,8.8.8.8,1:Er1+OOCF8yGNpdLTvvZYhPjcs3k=,\"NOERROR\",94,132\n",
      "10.0.2.15,1.1.1.1,1:VEb/gaOMjrlHrUQrcflYGetGQ4A=,\"NOERROR\",94,164\n",
      "10.0.2.15,1.1.1.1,1:+0ZDbtyhMqVWeOx08Gpw5RLvngE=,\"NOERROR\",94,164\n",
      "\n",
      "----self-signed.badssl.com-----\n",
      "Src IP, Dst IP, Community Id, Status Code, Src Bytes, Dst Bytes\n",
      "10.0.2.15,1.1.1.1,1:8UZrL3KVTOF3EZrcGqFLxX2215E=,\"NOERROR\",164,553\n",
      "10.0.2.15,1.1.1.1,1:vW8hYLkhXrdxModrnHofO7DOjAg=,\"NOERROR\",164,553\n",
      "10.0.2.15,1.1.1.1,1:evuWPfFpU4ZnbJeBsPBD2bi1OXc=,\"NOERROR\",164,553\n",
      "\n",
      "----testmyids.com-----\n",
      "Src IP, Dst IP, Community Id, Status Code, Src Bytes, Dst Bytes\n",
      "10.0.2.15,1.1.1.1,1:O+xzL6U2KtM/mbZMfz1+twqP2v8=,\"NOERROR\",146,274\n",
      "10.0.2.15,1.1.1.1,1:iyuMhveZdG+QEkDMswLkZmwv7UA=,\"NOERROR\",146,274\n",
      "10.0.2.15,1.1.1.1,1:wpw1h5YDscirzXgdTENa5jVChFE=,\"NOERROR\",146,274\n",
      "10.0.2.15,1.1.1.1,1:XStYbX19jiZmDbJsvGWwzJh4tPs=,\"NOERROR\",146,274\n",
      "10.0.2.15,1.1.1.1,1:cBsO2cNqAod4PLOEoKd1BSYzgbQ=,\"NOERROR\",146,274\n",
      "\n",
      "----star-mini.c10r.facebook.com-----\n",
      "Src IP, Dst IP, Community Id, Status Code, Src Bytes, Dst Bytes\n",
      "10.0.2.15,1.1.1.1,1:g3i12sw3FrmCpDb9nmd5cPOvuEA=,\"NOERROR\",152,500\n",
      "10.0.2.15,1.1.1.1,1:bGqJIhp6pYsywWF8YQ46ZasCS1Y=,\"NOERROR\",152,500\n",
      "\n",
      "----www.facebook.com-----\n",
      "Src IP, Dst IP, Community Id, Status Code, Src Bytes, Dst Bytes\n",
      "10.0.2.15,1.1.1.1,1:g3i12sw3FrmCpDb9nmd5cPOvuEA=,\"NOERROR\",152,500\n",
      "10.0.2.15,1.1.1.1,1:bGqJIhp6pYsywWF8YQ46ZasCS1Y=,\"NOERROR\",152,500\n",
      "\n",
      "----sysadminnid.tumblr.com-----\n",
      "Src IP, Dst IP, Community Id, Status Code, Src Bytes, Dst Bytes\n",
      "10.0.2.15,1.1.1.1,1:cP8MqFg2sqKShJ+EAGtP+wtTeyA=,\"NOERROR\",164,682\n",
      "10.0.2.15,1.1.1.1,1:kC3N57cMTAkAxWiAgX+5FrBvVao=,\"NOERROR\",164,682\n",
      "10.0.2.15,1.1.1.1,1:FneMHXc2GB6gbFONYeiMrPv9NFI=,\"NOERROR\",164,682\n",
      "10.0.2.15,1.1.1.1,1:un186iJp1MrvH6KncD0K0fNwPJ8=,\"NOERROR\",164,682\n",
      "\n",
      "----dualstack.python.map.fastly.net-----\n",
      "Src IP, Dst IP, Community Id, Status Code, Src Bytes, Dst Bytes\n",
      "\n",
      "----pypi.python.org-----\n",
      "Src IP, Dst IP, Community Id, Status Code, Src Bytes, Dst Bytes\n",
      "\n",
      "----neti.ee-----\n",
      "Src IP, Dst IP, Community Id, Status Code, Src Bytes, Dst Bytes\n",
      "\n",
      "----dualstack.r.ssl.global.fastly.net-----\n",
      "Src IP, Dst IP, Community Id, Status Code, Src Bytes, Dst Bytes\n",
      "\n",
      "----files.pythonhosted.org-----\n",
      "Src IP, Dst IP, Community Id, Status Code, Src Bytes, Dst Bytes\n",
      "\n",
      "----pypi.org-----\n",
      "Src IP, Dst IP, Community Id, Status Code, Src Bytes, Dst Bytes\n",
      "\n"
     ]
    }
   ],
   "source": [
    "for k, v in resps.items():\n",
    "    print(\"----{}-----\".format(k))\n",
    "    print(v)"
   ]
  },
  {
   "cell_type": "markdown",
   "metadata": {},
   "source": [
    "# Tasks\n",
    "\n",
    "* Write a script that extracts all TLS certificate alternative names into a python list;\n",
    "    * For each tls alternative name, extract Issuer and all individual sessions from past hour;\n",
    "* LS exercise took place on April 10-11 2019 with April 9 being prep day, write following scripted queries;\n",
    "    * Extract all unique JA3 hashes from 1 day interval;\n",
    "        * For each distinct JA3 hash, extract unique source IP addresses that originate from simulated internet;\n",
    "        * Investigate those groups, which might be malicious, which benign?\n",
    "    * Extract unique HTTP user-agents and URI paths;\n",
    "        * Extract sessions that contain remote code execution;"
   ]
  },
  {
   "cell_type": "code",
   "execution_count": null,
   "metadata": {},
   "outputs": [],
   "source": []
  }
 ],
 "metadata": {
  "kernelspec": {
   "display_name": "Python 3",
   "language": "python",
   "name": "python3"
  },
  "language_info": {
   "codemirror_mode": {
    "name": "ipython",
    "version": 3
   },
   "file_extension": ".py",
   "mimetype": "text/x-python",
   "name": "python",
   "nbconvert_exporter": "python",
   "pygments_lexer": "ipython3",
   "version": "3.6.7"
  }
 },
 "nbformat": 4,
 "nbformat_minor": 2
}
