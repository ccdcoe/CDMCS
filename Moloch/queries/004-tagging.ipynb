{
 "cells": [
  {
   "cell_type": "markdown",
   "metadata": {},
   "source": [
    "# Adding and removing tags\n",
    "\n",
    "* https://github.com/aol/moloch/wiki/API#addtags\n",
    "\n",
    "Sessions can be marked with custom *tags*, so afterward we could include or exclude these sessions by simple `tags == ` query. Like before, start by setting up modules and auth variables."
   ]
  },
  {
   "cell_type": "code",
   "execution_count": 2,
   "metadata": {},
   "outputs": [],
   "source": [
    "import requests\n",
    "from requests.auth import HTTPDigestAuth\n",
    "user=\"vagrant\"\n",
    "passwd=\"vagrant\"\n",
    "auth=HTTPDigestAuth(user, passwd)"
   ]
  },
  {
   "cell_type": "markdown",
   "metadata": {},
   "source": [
    "Unline previous endpoints, we are not just pulling data. So we need to do HTTP POST with a comma separated list of tags in POST body."
   ]
  },
  {
   "cell_type": "code",
   "execution_count": 11,
   "metadata": {},
   "outputs": [
    {
     "name": "stdout",
     "output_type": "stream",
     "text": [
      "{\"success\":true,\"text\":\"Tags added successfully\"}\n"
     ]
    }
   ],
   "source": [
    "query = {\n",
    "    \"expression\": \"protocols == dns && (dns.host == berylia.org || dns.host == www.facebook.com || dns.host == sysadminnid.tumblr.com)\",\n",
    "    \"date\": 1,\n",
    "}\n",
    "tags = [\n",
    "    \"traffic\",\n",
    "    \"generated\",\n",
    "    \"good\"\n",
    "]\n",
    "tags = \",\".join(tags)\n",
    "resp = requests.post(\"http://192.168.10.13:8005/addTags\", params=query, auth=auth, json={\n",
    "    \"tags\": tags\n",
    "})\n",
    "print(resp.text)"
   ]
  },
  {
   "cell_type": "markdown",
   "metadata": {},
   "source": [
    "Other queries can receive a different set of tags."
   ]
  },
  {
   "cell_type": "code",
   "execution_count": 12,
   "metadata": {},
   "outputs": [
    {
     "name": "stdout",
     "output_type": "stream",
     "text": [
      "{\"success\":true,\"text\":\"Tags added successfully\"}\n"
     ]
    }
   ],
   "source": [
    "query = {\n",
    "    \"expression\": \"protocols == dns && (dns.host == self-signed.badssl.com || dns.host == testmyids.com)\",\n",
    "    \"date\": 1,\n",
    "}\n",
    "tags = [\n",
    "    \"traffic\",\n",
    "    \"generated\",\n",
    "    \"bad\"\n",
    "]\n",
    "tags = \",\".join(tags)\n",
    "resp = requests.post(\"http://192.168.10.13:8005/addTags\", params=query, auth=auth, json={\n",
    "    \"tags\": tags\n",
    "})\n",
    "print(resp.text)"
   ]
  },
  {
   "cell_type": "markdown",
   "metadata": {},
   "source": [
    "Now we no longer have to write the complex query when looking for specific traffic subset."
   ]
  },
  {
   "cell_type": "code",
   "execution_count": 13,
   "metadata": {},
   "outputs": [
    {
     "name": "stdout",
     "output_type": "stream",
     "text": [
      "berylia.org\n",
      "star-mini.c10r.facebook.com\n",
      "www.facebook.com\n",
      "sysadminnid.tumblr.com\n",
      "\n"
     ]
    }
   ],
   "source": [
    "query = {\n",
    "    \"expression\": \"tags == generated && tags == good\",\n",
    "    \"exp\": \"dns.host\"\n",
    "}\n",
    "resp = requests.get(\"http://192.168.10.13:8005/unique.txt\", params=query, auth=auth)\n",
    "print(resp.text)"
   ]
  },
  {
   "cell_type": "code",
   "execution_count": 14,
   "metadata": {},
   "outputs": [
    {
     "name": "stdout",
     "output_type": "stream",
     "text": [
      "testmyids.com\n",
      "self-signed.badssl.com\n",
      "\n"
     ]
    }
   ],
   "source": [
    "query = {\n",
    "    \"expression\": \"tags == generated && tags == bad\",\n",
    "    \"exp\": \"dns.host\"\n",
    "}\n",
    "resp = requests.get(\"http://192.168.10.13:8005/unique.txt\", params=query, auth=auth)\n",
    "print(resp.text)"
   ]
  },
  {
   "cell_type": "markdown",
   "metadata": {},
   "source": [
    "Likewise, tags can be removed. For example, `traffic` tag is quite useless currently. Make sure that your API user has permissions to remove data though."
   ]
  },
  {
   "cell_type": "code",
   "execution_count": 17,
   "metadata": {},
   "outputs": [],
   "source": [
    "query = {\n",
    "    \"expression\": \"tags == traffic\",\n",
    "    \"date\": 1,\n",
    "}\n",
    "resp = requests.post(\"http://192.168.10.13:8005/removeTags\", params=query, auth=auth, json={\n",
    "    \"tags\": \"traffic\"\n",
    "})"
   ]
  },
  {
   "cell_type": "code",
   "execution_count": 18,
   "metadata": {},
   "outputs": [
    {
     "name": "stdout",
     "output_type": "stream",
     "text": [
      "{\"success\":true,\"text\":\"Tags removed successfully\"}\n"
     ]
    }
   ],
   "source": [
    "print(resp.text)"
   ]
  },
  {
   "cell_type": "markdown",
   "metadata": {},
   "source": [
    "# Tasks\n",
    "\n",
    "Consider the suricata `community_id` task from last notebook. Write a script that extracts suricata Signature and Severity fields from Alert JSON. Tag moloch sessions that have corresponding Suricata IDS alerts with this information.\n",
    "* Whitespace in signature name will not fly, replace that with underscore or dash;\n",
    "* Likewise, consider lowercasing the signature name;\n",
    "* A simple severity value number as tag is too vague, actual value in Moloch should be `suri-prio-1`, `suri-prio-2` and `suri-prio-3`;\n",
    "* If using classroom server, prepend your name in front of the tag;"
   ]
  },
  {
   "cell_type": "code",
   "execution_count": null,
   "metadata": {},
   "outputs": [],
   "source": []
  }
 ],
 "metadata": {
  "kernelspec": {
   "display_name": "Python 3",
   "language": "python",
   "name": "python3"
  },
  "language_info": {
   "codemirror_mode": {
    "name": "ipython",
    "version": 3
   },
   "file_extension": ".py",
   "mimetype": "text/x-python",
   "name": "python",
   "nbconvert_exporter": "python",
   "pygments_lexer": "ipython3",
   "version": "3.6.7"
  }
 },
 "nbformat": 4,
 "nbformat_minor": 2
}
