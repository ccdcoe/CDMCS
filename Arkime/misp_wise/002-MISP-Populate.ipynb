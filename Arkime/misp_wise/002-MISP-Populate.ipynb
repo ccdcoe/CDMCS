{
 "cells": [
  {
   "cell_type": "code",
   "execution_count": null,
   "id": "5f509ce2-965c-4e61-bcd3-54410bb3e4c0",
   "metadata": {
    "tags": []
   },
   "outputs": [],
   "source": [
    "%pip install pymisp > /dev/null"
   ]
  },
  {
   "cell_type": "code",
   "execution_count": null,
   "id": "1493f901-e0dd-41ca-baae-016ce6fd906b",
   "metadata": {
    "tags": []
   },
   "outputs": [],
   "source": [
    "import urllib3\n",
    "urllib3.disable_warnings(urllib3.exceptions.InsecureRequestWarning)"
   ]
  },
  {
   "cell_type": "code",
   "execution_count": null,
   "id": "fab74a2b-9f40-4691-a2ec-2a8126caef04",
   "metadata": {
    "tags": []
   },
   "outputs": [],
   "source": [
    "%pip install python-dotenv"
   ]
  },
  {
   "cell_type": "code",
   "execution_count": null,
   "id": "09eee1fc-5203-4d76-a9e2-c7d2d64b96ff",
   "metadata": {
    "tags": []
   },
   "outputs": [],
   "source": [
    "from dotenv import dotenv_values"
   ]
  },
  {
   "cell_type": "markdown",
   "id": "45d1b6a4-4541-40d4-a670-0765b9805672",
   "metadata": {},
   "source": [
    "# Define MISP params"
   ]
  },
  {
   "cell_type": "code",
   "execution_count": null,
   "id": "2fd0b2dc-f739-464c-bf4d-f44f1a99afbd",
   "metadata": {},
   "outputs": [],
   "source": [
    "# This is from a local testing env, so commiting the secret for training is fine\n",
    "TOKEN = \"TOKEN\"\n",
    "HOST = \"https://192.168.56.12\""
   ]
  },
  {
   "cell_type": "markdown",
   "id": "92c9a960-0f27-49ce-b988-407334d5401d",
   "metadata": {},
   "source": [
    "# Create MISP object"
   ]
  },
  {
   "cell_type": "code",
   "execution_count": null,
   "id": "8abc0dd1-9ddf-46d4-b40a-5a320b7839fd",
   "metadata": {
    "tags": []
   },
   "outputs": [],
   "source": [
    "from pymisp import ExpandedPyMISP, MISPEvent, MISPTag"
   ]
  },
  {
   "cell_type": "code",
   "execution_count": null,
   "id": "9998812a-5d0a-46a2-8471-a883141bc2fd",
   "metadata": {
    "tags": []
   },
   "outputs": [],
   "source": [
    "misp = ExpandedPyMISP(HOST, TOKEN, False, debug=False)"
   ]
  },
  {
   "cell_type": "markdown",
   "id": "2cc6262d-757a-42d2-a1ab-49f23f6dbbc1",
   "metadata": {},
   "source": [
    "# Define MISP event"
   ]
  },
  {
   "cell_type": "code",
   "execution_count": null,
   "id": "a5bd78b1-fd13-45e7-b742-2e1eb8ed64e1",
   "metadata": {
    "tags": []
   },
   "outputs": [],
   "source": [
    "event = MISPEvent()\n",
    "event.info = \"LS 2023 Day 1 RT C2 domains\""
   ]
  },
  {
   "cell_type": "markdown",
   "id": "07f624de-76c6-4e96-aa1a-f4cd125bf8d8",
   "metadata": {},
   "source": [
    "# Create MISP event"
   ]
  },
  {
   "cell_type": "code",
   "execution_count": null,
   "id": "a9eee7a6-61c9-4cd6-b1ce-2103e1842858",
   "metadata": {
    "tags": []
   },
   "outputs": [],
   "source": [
    "result = misp.add_event(event=event, pythonify=True)"
   ]
  },
  {
   "cell_type": "markdown",
   "id": "1bbf9770-3bb2-438f-ba47-93002a341ae1",
   "metadata": {
    "tags": []
   },
   "source": [
    "# Define IoC values and buffer them for upload"
   ]
  },
  {
   "cell_type": "code",
   "execution_count": null,
   "id": "ac058855-df11-4acd-9f0a-3191496cf6e8",
   "metadata": {
    "tags": []
   },
   "outputs": [],
   "source": [
    "IOC = \"\"\"\n",
    "gstatlc.net\n",
    "scdn.co.uk\n",
    "rnicrosoftonline.net\n",
    "mozllla.com\n",
    "awsamazon.eu\n",
    "msn365.org\n",
    "\"\"\".split()"
   ]
  },
  {
   "cell_type": "code",
   "execution_count": null,
   "id": "380c7b23-ab71-4cea-8cfc-efccd0d29732",
   "metadata": {
    "tags": []
   },
   "outputs": [],
   "source": [
    "IOC"
   ]
  },
  {
   "cell_type": "code",
   "execution_count": null,
   "id": "086bba5a-c80d-4c1d-9cc3-6df5970e76eb",
   "metadata": {},
   "outputs": [],
   "source": [
    "for ioc in IOC:\n",
    "    tag = MISPTag()\n",
    "    tag.from_dict(name=\"kill-chain:\\\"Command and Control\\\"\")\n",
    "    result.add_attribute(type=\"domain\", \n",
    "                         value=ioc,\n",
    "                         tags=[tag])"
   ]
  },
  {
   "cell_type": "markdown",
   "id": "1c0e8036-dc77-4860-9844-701874dda33e",
   "metadata": {},
   "source": [
    "# Bulk update event"
   ]
  },
  {
   "cell_type": "code",
   "execution_count": null,
   "id": "3fd1aaff-06e0-484d-81f8-c6e0c3f7639b",
   "metadata": {
    "tags": []
   },
   "outputs": [],
   "source": [
    "import pandas as pd"
   ]
  },
  {
   "cell_type": "code",
   "execution_count": null,
   "id": "84a5b36d-7fcd-4df6-8b6e-d9990aee5fa2",
   "metadata": {
    "tags": []
   },
   "outputs": [],
   "source": [
    "misp.update_event(event=result)"
   ]
  }
 ],
 "metadata": {
  "kernelspec": {
   "display_name": "Python 3 (ipykernel)",
   "language": "python",
   "name": "python3"
  },
  "language_info": {
   "codemirror_mode": {
    "name": "ipython",
    "version": 3
   },
   "file_extension": ".py",
   "mimetype": "text/x-python",
   "name": "python",
   "nbconvert_exporter": "python",
   "pygments_lexer": "ipython3",
   "version": "3.12.3"
  }
 },
 "nbformat": 4,
 "nbformat_minor": 5
}
